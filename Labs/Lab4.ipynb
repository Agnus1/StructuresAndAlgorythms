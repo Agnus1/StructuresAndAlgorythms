{
 "cells": [
  {
   "cell_type": "markdown",
   "id": "fifteen-sailing",
   "metadata": {},
   "source": [
    "# Лабораторная работа №4\n",
    "## Выполнил студент группы Ким Игорь Владимирович ГРУППА БВТ2004"
   ]
  },
  {
   "cell_type": "markdown",
   "id": "arctic-stocks",
   "metadata": {},
   "source": [
    "Реализовать следующие структуры данных:\n",
    "  \n",
    "● <b> Стек (stack): </b>  \n",
    "Операции для стека: \n",
    "<i> инициализация, проверка на пустоту, добавление нового элемента в начало, извлечение элемента из начала;  </i>  \n",
    "  \n",
    "● <b> Дек (двусторонняя очередь, deque):  </b>  \n",
    "Операции для дека: \n",
    "<i> инициализация, проверка на пустоту, добавление нового элемента в начало, добавление нового элемента в конец, извлечение элемента из начала, извлечение элемента из конца. </i>  \n",
    "  \n",
    "<i> Разработать программу обработки данных, содержащихся в заранее подготовленном txt-файле, в соответствии с заданиями, применив указанную в задании структуру данных. Результат работы программы вывести на экран и сохранить в отдельном txt-файле. </i>"
   ]
  },
  {
   "cell_type": "code",
   "execution_count": 7,
   "id": "612e9bac",
   "metadata": {},
   "outputs": [],
   "source": [
    "class Stack:\n",
    "    \n",
    "    def __init__(self, arr:list = None):\n",
    "        if arr == None:\n",
    "            arr = []\n",
    "        self.stack = arr\n",
    "    \n",
    "    def isEmpty(self) -> bool:\n",
    "        return len(self.stack) == 0\n",
    "    \n",
    "    def pop(self):\n",
    "        if self.isEmpty():\n",
    "            raise Exception(\"Stack is empty\")\n",
    "        return self.stack.pop(0)\n",
    "    \n",
    "    def push(self, item):\n",
    "        self.stack.insert(0, item)\n",
    "            \n",
    "    def count(self) -> int:\n",
    "        return len(self.stack)\n",
    "    \n",
    "    def peek(self):\n",
    "        return self.stack[0]\n",
    "    \n",
    "    def size(self):\n",
    "        return len(self.stack)\n",
    "    \n",
    "class Deque:\n",
    "    \n",
    "    def __init__(self, arr:list = None):\n",
    "        if arr == None:\n",
    "            arr = []\n",
    "        self.deque = arr\n",
    "        \n",
    "    def isEmpty(self) -> bool:\n",
    "        return len(self.deque) == 0\n",
    "        \n",
    "    def popLeft(self):\n",
    "        if self.isEmpty():\n",
    "            raise Exception(\"Deque is empty\")\n",
    "        return self.deque.pop(0)\n",
    "    \n",
    "    def popRight(self):\n",
    "        if self.isEmpty():\n",
    "            raise Exception(\"Deque is empty\")\n",
    "        return self.deque.pop(-1)\n",
    "    \n",
    "    def pushRight(self, item):\n",
    "        self.deque.append(item)\n",
    "        \n",
    "    def pushLeft(self, item):\n",
    "        self.deque.insert(0, item)\n",
    "        \n",
    "    def count(self) -> int:\n",
    "        return len(self.deque)\n"
   ]
  },
  {
   "cell_type": "markdown",
   "id": "5d7edb08",
   "metadata": {
    "scrolled": true
   },
   "source": [
    "### Задание №1\n",
    "Отсортировать строки файла, содержащие названия книг, в алфавитном порядке с использованием двух деков."
   ]
  },
  {
   "cell_type": "code",
   "execution_count": 35,
   "id": "17702ade",
   "metadata": {},
   "outputs": [
    {
     "name": "stdout",
     "output_type": "stream",
     "text": [
      "Бедные люди\n",
      "\n",
      "Братья Карамазовы\n",
      "\n",
      "Война и Мир\n",
      "\n",
      "Герой нашего времени\n",
      "\n",
      "Голова профессора Доуэля\n",
      "\n",
      "Гранатовый браслет\n",
      "\n",
      "Двенадцать стульев\n",
      "\n",
      "Евгений Онегин\n",
      "\n",
      "Идиот\n",
      "\n",
      "Мастер и Маргарита\n",
      "\n",
      "Мизери\n",
      "\n",
      "Муму\n",
      "\n",
      "Мёртвые души\n",
      "\n",
      "Отцы и дети\n",
      "\n",
      "Преступление и наказание\n",
      "\n",
      "Собачье сердце\n",
      "Судьба человека\n",
      "\n",
      "Тихий Дон\n",
      "\n",
      "Шинель\n",
      "\n"
     ]
    }
   ],
   "source": [
    "file = open(\"Book.txt\")\n",
    "\n",
    "def dequeSort(file):\n",
    "    deq_1 = Deque()\n",
    "    deq_2 = Deque()\n",
    "\n",
    "    maxVal = None\n",
    "    \n",
    "    for line in file:\n",
    "        deq_1.pushRight(line)\n",
    "        \n",
    "    for i in range(0, deq_1.count()):\n",
    "        while not deq_1.isEmpty():\n",
    "            line = deq_1.popLeft()\n",
    "            if (maxVal == None or line > maxVal):\n",
    "                deq_2.pushRight(line)\n",
    "                maxVal = line\n",
    "            else:\n",
    "                deq_2.pushLeft(line)\n",
    "        \n",
    "        maxVal = None\n",
    "        deq_1, deq_2 = deq_2, deq_1\n",
    "        \n",
    "    out = deq_2 if deq_1.isEmpty() else deq_1\n",
    "    \n",
    "    return out\n",
    "\n",
    "\n",
    "result = dequeSort(file)\n",
    "file.close()        \n",
    "\n",
    "while not result.isEmpty():\n",
    "    print(result.popLeft())"
   ]
  },
  {
   "cell_type": "markdown",
   "id": "49fbd2a0",
   "metadata": {},
   "source": [
    "### Задание №2\n",
    "Дек содержит последовательность символов для шифровки сообщений. Дан текстовый файл, содержащий зашифрованное сообщение. Пользуясь деком, расшифровать текст. \n",
    "Известно, что при шифровке каждый символ сообщения заменялся следующим за ним в деке по часовой стрелке через один."
   ]
  },
  {
   "cell_type": "code",
   "execution_count": 36,
   "id": "81cab7a8",
   "metadata": {},
   "outputs": [
    {
     "name": "stdout",
     "output_type": "stream",
     "text": [
      "вмкмз\n",
      "домой\n"
     ]
    }
   ],
   "source": [
    "def decipher(message, deq: Deque) -> str:\n",
    "    result = \"\"\n",
    "    for i in range(0, len(message)):\n",
    "        sym = message[i]\n",
    "        \n",
    "        while True:\n",
    "            codeSym = deq.popLeft()\n",
    "            deq.pushRight(codeSym)\n",
    "\n",
    "            if codeSym == sym:\n",
    "                \n",
    "                deq.pushRight(deq.popLeft())\n",
    "                unsiphered = deq.popLeft()\n",
    "                deq.pushRight(unsiphered)\n",
    "                result += unsiphered\n",
    "                break\n",
    "                \n",
    "    return result\n",
    "\n",
    "\n",
    "code = open(\"Sipher.txt\")\n",
    "deq = Deque()\n",
    "\n",
    "for symbol in code:\n",
    "    deq.pushRight(symbol[0])\n",
    "\n",
    "code.close()\n",
    "\n",
    "mesStream = open(\"Message.txt\")\n",
    "message = mesStream.read()\n",
    "mesStream.close()\n",
    "\n",
    "\n",
    "print(message)\n",
    "print(decipher(message, deq))\n"
   ]
  },
  {
   "cell_type": "markdown",
   "id": "c0894f47",
   "metadata": {},
   "source": [
    "### Задание №3\n",
    "Даны три стержня и n дисков различного размера. Диски можно надевать на стержни, образуя из них башни. Перенести n дисков со стержня А на стержень С, сохранив их первоначальный порядок. При переносе дисков необходимо соблюдать следующие правила:\n",
    "- на каждом шаге со стержня на стержень переносить только один диск;\n",
    "- диск нельзя помещать на диск меньшего размера;\n",
    "- для промежуточного хранения можно использовать стержень В.\n",
    "Реализовать алгоритм, используя три стека вместо стержней А, В, С. Информация о дисках хранится в исходном файле."
   ]
  },
  {
   "cell_type": "code",
   "execution_count": 8,
   "id": "9e91a9d4",
   "metadata": {},
   "outputs": [
    {
     "name": "stdout",
     "output_type": "stream",
     "text": [
      "1\n",
      "2\n",
      "3\n",
      "4\n",
      "5\n",
      "6\n",
      "7\n",
      "8\n"
     ]
    }
   ],
   "source": [
    "def move(x, y):\n",
    "    if x.size() == 0 and y.size() > 0:\n",
    "        x.push(y.pop())\n",
    "    elif x.size() > 0 and y.size() == 0:\n",
    "        y.push(x.pop())\n",
    "    elif x.peek() > y.peek():\n",
    "        x.push(y.pop())\n",
    "    else:\n",
    "        y.push(x.pop())\n",
    "        \n",
    "a = Stack()\n",
    "b = Stack()\n",
    "c = Stack()\n",
    "\n",
    "disks = 8\n",
    "\n",
    "for i in range (disks, 0, -1):\n",
    "    a.push(i)\n",
    "        \n",
    "if disks % 2 == 0:\n",
    "    while c.size() != disks:\n",
    "        move(a, b)\n",
    "        move(a, c)\n",
    "        move(b, c)\n",
    "else:\n",
    "    while c.size() != disks:\n",
    "        move(a, c)\n",
    "        if c.size() == disks:\n",
    "            break\n",
    "        move(a, b)\n",
    "        move(b, c)\n",
    "        \n",
    "while not c.isEmpty():\n",
    "    print(c.pop())"
   ]
  },
  {
   "cell_type": "raw",
   "id": "eb923921",
   "metadata": {},
   "source": [
    "### Задание №4\n",
    "Дан текстовый файл с программой на алгоритмическом языке. За один просмотр файла проверить баланс круглых скобок в тексте, используя стек."
   ]
  },
  {
   "cell_type": "code",
   "execution_count": 35,
   "id": "5b1df60a",
   "metadata": {},
   "outputs": [
    {
     "name": "stdout",
     "output_type": "stream",
     "text": [
      "['((f(s)fas))', 'Balanced']\n",
      "['((())', 'Not balanced']\n",
      "[')(())', 'Not balanced']\n"
     ]
    }
   ],
   "source": [
    "def alg_check(line: str) -> list:\n",
    "    stack = Stack()\n",
    "    index = 0\n",
    "    while index < len(line):\n",
    "        symbol = line[index]\n",
    "        if symbol == \"(\":\n",
    "            stack.push(symbol)\n",
    "        elif symbol == \")\":\n",
    "            if not stack.isEmpty():\n",
    "                stack.pop()\n",
    "            else:\n",
    "                return [line, 'Not balanced']\n",
    "            \n",
    "        index = index + 1\n",
    "\n",
    "    if stack.isEmpty():\n",
    "        ans = 'Balanced'\n",
    "    else:\n",
    "        ans = 'Not balanced'\n",
    "    return [line, ans]\n",
    "\n",
    "file = open('Alg.txt', 'r')\n",
    "for line in file:\n",
    "    line = line.strip()\n",
    "    print(alg_check(line))\n",
    "\n",
    "file.close()"
   ]
  },
  {
   "cell_type": "markdown",
   "id": "c44cdd6b",
   "metadata": {},
   "source": [
    "### Задание №5\n",
    "\n",
    "Дан текстовый файл с программой на алгоритмическом языке. За один просмотр файла проверить баланс квадратных скобок в тексте, используя дек."
   ]
  },
  {
   "cell_type": "code",
   "execution_count": 34,
   "id": "36b8f400",
   "metadata": {},
   "outputs": [
    {
     "name": "stdout",
     "output_type": "stream",
     "text": [
      "['[a[[[saf]f]f]]', 'Balanced']\n",
      "['[[]]]]', 'Not balanced']\n",
      "[']d;[]', 'Not balanced']\n"
     ]
    }
   ],
   "source": [
    "def alg_check_deq(line:str) -> list:\n",
    "    deq = Deque()\n",
    "    b = True\n",
    "    index = 0\n",
    "\n",
    "    while index < len(line):\n",
    "        symbol = line[index]\n",
    "        if symbol == \"[\":\n",
    "            deq.pushRight(symbol)\n",
    "        elif symbol == \"]\":\n",
    "            if not deq.isEmpty():\n",
    "                deq.popLeft()\n",
    "            else:\n",
    "                return [line, 'Not balanced']\n",
    "        index += 1\n",
    "\n",
    "        if deq.isEmpty():\n",
    "            ans = 'Balanced'\n",
    "        else:\n",
    "            ans = 'Not balanced'\n",
    "            \n",
    "    return [line, ans]\n",
    "\n",
    "file = open('Alg_2.txt', 'r')\n",
    "for line in file:\n",
    "    line = line.strip()\n",
    "    print(alg_check_deq(line))\n",
    "\n",
    "\n",
    "        \n",
    "file.close()   "
   ]
  },
  {
   "cell_type": "markdown",
   "id": "59d13dc7",
   "metadata": {},
   "source": [
    "### Задание №6\n",
    "Дан файл из символов. Используя стек, за один просмотр файла напечатать сначала все цифры, затем все буквы, и, наконец, все остальные символы, сохраняя исходный порядок в каждой группе символов."
   ]
  },
  {
   "cell_type": "code",
   "execution_count": 43,
   "id": "297e36c2",
   "metadata": {},
   "outputs": [
    {
     "name": "stdout",
     "output_type": "stream",
     "text": [
      "'\\[]]=-[[']\\][\n",
      "csdzasdlpsdfhhjkuytr\n",
      "67654098769874654321\n",
      "1234564rtyukjhhfds789pldsazd67890sc45676[]\\]'[[-=]][\\'\n"
     ]
    }
   ],
   "source": [
    "file = open('Symbol.txt', 'r')\n",
    "line = file.read()\n",
    "\n",
    "letters = Stack()  \n",
    "digits = Stack()\n",
    "others = Stack()\n",
    "    \n",
    "for symbol in line:\n",
    "    if symbol.isdigit():\n",
    "        digits.push(symbol)\n",
    "    elif symbol.isalpha():\n",
    "        letters.push(symbol)\n",
    "    else:\n",
    "        others.push(symbol)\n",
    "\n",
    "res = ''\n",
    "\n",
    "oth = ''\n",
    "lett = ''\n",
    "dig = ''\n",
    "\n",
    "while not others.isEmpty():\n",
    "    oth += others.pop()\n",
    "print(oth)\n",
    "\n",
    "while not letters.isEmpty():\n",
    "    lett += letters.pop()\n",
    "print(lett)\n",
    "\n",
    "while not digits.isEmpty():\n",
    "    dig += digits.pop()\n",
    "print(dig)\n",
    "\n",
    "print(line)\n",
    "\n",
    "file.close()\n",
    "\n"
   ]
  },
  {
   "cell_type": "markdown",
   "id": "973f68bd",
   "metadata": {},
   "source": [
    "### Задание №7\n",
    "Дан файл из целых чисел. Используя дек, за один просмотр файла напечатать сначала все отрицательные числа, затем все положительные числа, сохраняя исходный порядок в каждой группе."
   ]
  },
  {
   "cell_type": "code",
   "execution_count": 45,
   "id": "c56fad66",
   "metadata": {},
   "outputs": [
    {
     "name": "stdout",
     "output_type": "stream",
     "text": [
      "-1\n",
      "-1\n",
      "2\n",
      "3\n",
      "4\n",
      "6\n",
      "7\n",
      "8\n",
      "9\n",
      "['-1', '-1', '2', '3', '4', '6', '7', '8', '9']\n"
     ]
    }
   ],
   "source": [
    "file = open('nums.txt', 'r')\n",
    "nums = file.read()\n",
    "\n",
    "nums = nums.split(' ')\n",
    "deq = Deque()\n",
    "\n",
    "for num in nums: #запись в обратном порядке; - влево, + вправо\n",
    "    if int(num) < 0:\n",
    "        deq.pushLeft(num)\n",
    "    else:\n",
    "        deq.pushRight(num)\n",
    "\n",
    "while not deq.isEmpty(): #перемещаю - вправо, + продвигаются к левому краю; так происходит reverse порядка на начальный\n",
    "    a = deq.popLeft()\n",
    "    if int(a) < 0:\n",
    "        deq.pushRight(a)\n",
    "    else:\n",
    "        deq.pushLeft(a)\n",
    "        break\n",
    "\n",
    "while not deq.isEmpty(): #извлекаю справа все - числа, доходим до +, когда понимаем, что это +, возвращаем обратно в deq\n",
    "    a = deq.popRight()\n",
    "    if int(a) < 0:\n",
    "        print(a)\n",
    "    else:\n",
    "        deq.pushRight(a)\n",
    "        break\n",
    "\n",
    "while not deq.isEmpty(): #печатаем оставшиеся положительные числа\n",
    "    print(deq.popLeft())\n",
    "    \n",
    "print(nums)"
   ]
  },
  {
   "cell_type": "markdown",
   "id": "b9228191",
   "metadata": {},
   "source": [
    "### Задание №8\n",
    "Дан текстовый файл. Используя стек, сформировать новый текстовый файл, содержащий строки исходного файла, записанные в обратном порядке: первая строка становится последней, вторая – предпоследней и т.д."
   ]
  },
  {
   "cell_type": "code",
   "execution_count": 47,
   "id": "981fbdfe",
   "metadata": {},
   "outputs": [
    {
     "name": "stdout",
     "output_type": "stream",
     "text": [
      "1\n",
      "2\n",
      "3\n",
      "4\n",
      "5\n",
      "6\n",
      "7\n",
      "8\n",
      "9\n",
      "10\n",
      "----------\n",
      "10\n",
      "9\n",
      "8\n",
      "7\n",
      "6\n",
      "5\n",
      "4\n",
      "3\n",
      "2\n",
      "1\n"
     ]
    }
   ],
   "source": [
    "finp = open('inp.txt', 'r+')\n",
    "stack = Stack()\n",
    "\n",
    "for line in finp:\n",
    "    print(line, end = \"\")\n",
    "    stack.push(line.replace('\\n',\"\"))\n",
    "    \n",
    "finp.close()\n",
    "print(\"\\n----------\")\n",
    "\n",
    "fout = open('out.txt','r+')\n",
    "\n",
    "while not stack.isEmpty():\n",
    "    a = stack.pop()\n",
    "    print(a)\n",
    "    fout.write(a + '\\n')\n",
    "\n",
    "fout.close()"
   ]
  },
  {
   "cell_type": "markdown",
   "id": "rental-jerusalem",
   "metadata": {},
   "source": [
    "### Вывод\n"
   ]
  },
  {
   "cell_type": "markdown",
   "id": "0c2b8899",
   "metadata": {},
   "source": [
    "В лабораторной я изучил множесто новых интересных алгоритмов"
   ]
  }
 ],
 "metadata": {
  "kernelspec": {
   "display_name": "Python 3 (ipykernel)",
   "language": "python",
   "name": "python3"
  },
  "language_info": {
   "codemirror_mode": {
    "name": "ipython",
    "version": 3
   },
   "file_extension": ".py",
   "mimetype": "text/x-python",
   "name": "python",
   "nbconvert_exporter": "python",
   "pygments_lexer": "ipython3",
   "version": "3.10.2"
  }
 },
 "nbformat": 4,
 "nbformat_minor": 5
}
