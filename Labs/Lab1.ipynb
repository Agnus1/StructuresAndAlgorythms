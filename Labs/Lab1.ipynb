{
 "cells": [
  {
   "cell_type": "markdown",
   "id": "fifteen-sailing",
   "metadata": {},
   "source": [
    "# Лабораторная работа №1\n",
    "## Выполнил студент группы ГРУППА ФИО"
   ]
  },
  {
   "cell_type": "markdown",
   "id": "particular-syndicate",
   "metadata": {},
   "source": [
    "### Оглавление\n",
    "1. [Задание 1](#Задание-№1)\n",
    "2. [Задание 2](#Задание-№2)\n",
    "3. [Задание 3](#Задание-№3)\n",
    "4. [Вывод](#Вывод)"
   ]
  },
  {
   "cell_type": "markdown",
   "id": "arctic-stocks",
   "metadata": {},
   "source": [
    "### Задание №1\n",
    "<i> Вызвать функцию print() и передать туда строку Hello, World! </i>"
   ]
  },
  {
   "cell_type": "code",
   "execution_count": 1,
   "id": "caring-truck",
   "metadata": {
    "scrolled": true
   },
   "outputs": [
    {
     "name": "stdout",
     "output_type": "stream",
     "text": [
      "Hello, World\n"
     ]
    }
   ],
   "source": [
    "print(\"Hello, World\")"
   ]
  },
  {
   "cell_type": "markdown",
   "id": "maritime-conversation",
   "metadata": {},
   "source": [
    "### Задание №2\n",
    "Написать генератор случайных матриц(многомерных), который принимает\n",
    "опциональные параметры <b>m</b>, <b>n</b>, <b>min_limit</b>, <b>max_limit</b>, где <b>m</b> и <b>n</b> указывают размер\n",
    "матрицы, а <b>min_lim</b> и <b>max_lim</b> - минимальное и максимальное значение для\n",
    "генерируемого числа."
   ]
  },
  {
   "cell_type": "code",
   "execution_count": 2,
   "id": "built-contact",
   "metadata": {},
   "outputs": [],
   "source": [
    "import random\n",
    "import time\n",
    "import copy"
   ]
  },
  {
   "cell_type": "code",
   "execution_count": 3,
   "id": "alert-charm",
   "metadata": {},
   "outputs": [
    {
     "name": "stdout",
     "output_type": "stream",
     "text": [
      "12\n",
      "8\n",
      "1\n",
      "20\n",
      "   9   7   1   1   5   8   7   5   5  11   8   7\n",
      "  14  17  19  19   2   4   5   5  17   3  10   7\n",
      "   4   3   9   7   6  18  14  20   9  16  14  17\n",
      "   5  20   7   5  18  15   7  11   6  12  12   4\n",
      "   6   1   2  10  15   1   3  15   7   4   6  13\n",
      "  11  19  17  19  19  14   6   1  12   4  10   1\n",
      "  19   2  20  14   5  16   8  11  18  19  16  14\n",
      "   3  17  20   1  14  17  11  11  10   1  13  17\n"
     ]
    }
   ],
   "source": [
    "user_m = int(input())\n",
    "user_n = int(input())\n",
    "user_min_limit = int(input())\n",
    "user_max_limit = int(input())\n",
    "\n",
    "def printMatr(matrix):\n",
    "    print('\\n'.join([''.join(['{:4}'.format(item) for item in row]) for row in matrix]))\n",
    "\n",
    "def matrixGen(user_m, user_n, user_min_limit, user_max_limit):\n",
    "    matr = [[random.randint(user_min_limit, user_max_limit) for i in range(user_m)] for j in range(user_n)]\n",
    "    return matr\n",
    "\n",
    "matr = matrixGen(user_m, user_n, user_min_limit, user_max_limit)\n",
    "\n",
    "printMatr(matr)\n",
    "\n"
   ]
  },
  {
   "cell_type": "markdown",
   "id": "catholic-roots",
   "metadata": {},
   "source": [
    "### Задание №3\n",
    "Реализовать методы сортировки строк числовой матрицы в соответствии с\n",
    "заданием. Оценить время работы каждого алгоритма сортировки и сравнить его со\n",
    "временем стандартной функции сортировки. Испытания проводить на сгенерированных\n",
    "матрицах."
   ]
  },
  {
   "cell_type": "code",
   "execution_count": 4,
   "id": "31d71ceb",
   "metadata": {},
   "outputs": [
    {
     "name": "stdout",
     "output_type": "stream",
     "text": [
      "---Исходная матрица---\n",
      "   9   7   1   1   5   8   7   5   5  11   8   7\n",
      "  14  17  19  19   2   4   5   5  17   3  10   7\n",
      "   4   3   9   7   6  18  14  20   9  16  14  17\n",
      "   5  20   7   5  18  15   7  11   6  12  12   4\n",
      "   6   1   2  10  15   1   3  15   7   4   6  13\n",
      "  11  19  17  19  19  14   6   1  12   4  10   1\n",
      "  19   2  20  14   5  16   8  11  18  19  16  14\n",
      "   3  17  20   1  14  17  11  11  10   1  13  17\n",
      "--- Сортировка 0.299800 ms ---\n",
      "--- Результат сортировки ---\n",
      "   1   1   2   3   4   6   6   7  10  13  15  15\n",
      "   1   1   3  10  11  11  13  14  17  17  17  20\n",
      "   1   1   4   6  10  11  12  14  17  19  19  19\n",
      "   1   1   5   5   5   7   7   7   8   8   9  11\n",
      "   2   3   4   5   5   7  10  14  17  17  19  19\n",
      "   2   5   8  11  14  14  16  16  18  19  19  20\n",
      "   3   4   6   7   9   9  14  14  16  17  18  20\n",
      "   4   5   5   6   7   7  11  12  12  15  18  20\n"
     ]
    }
   ],
   "source": [
    "stdMatr = copy.deepcopy(matr)\n",
    "print(\"---Исходная матрица---\")\n",
    "printMatr(stdMatr)\n",
    "\n",
    "start_time = (time.perf_counter())\n",
    "for row in stdMatr:\n",
    "    row.sort()\n",
    "stdMatr.sort()\n",
    "end_time = (time.perf_counter())\n",
    "\n",
    "print(\"--- Сортировка {:.6f} ms ---\".format((end_time-start_time)*1000))\n",
    "print(\"--- Результат сортировки ---\")\n",
    "printMatr(stdMatr)"
   ]
  },
  {
   "cell_type": "code",
   "execution_count": 5,
   "id": "cleared-anniversary",
   "metadata": {},
   "outputs": [
    {
     "name": "stdout",
     "output_type": "stream",
     "text": [
      "--- Сортировка выборкой 0.3627000006 ms ---\n",
      "--- Результат сортировки вставкой ---\n",
      "   1   1   2   3   4   6   6   7  10  13  15  15\n",
      "   1   1   3  10  11  11  13  14  17  17  17  20\n",
      "   1   1   4   6  10  11  12  14  17  19  19  19\n",
      "   1   1   5   5   5   7   7   7   8   8   9  11\n",
      "   2   3   4   5   5   7  10  14  17  17  19  19\n",
      "   2   5   8  11  14  14  16  16  18  19  19  20\n",
      "   3   4   6   7   9   9  14  14  16  17  18  20\n",
      "   4   5   5   6   7   7  11  12  12  15  18  20\n"
     ]
    }
   ],
   "source": [
    "# Сортировка выбором.\n",
    "# Берётся срез массива, в котором минимальный элемент переносят в самый левый угол,\n",
    "# после чего срез уменьшается и цикл повторяется.\n",
    "def selectionSort(row):\n",
    "    length = len(row)\n",
    "    for i in range(length):\n",
    "        mn = i\n",
    "        for j in range(i, length):\n",
    "            if (row[mn] > row[j]):\n",
    "                mn = j\n",
    "        row[i], row[mn] = row[mn], row[i]\n",
    "\n",
    "\n",
    "\n",
    "selectionSortArr = copy.deepcopy(matr)\n",
    "\n",
    "start_time = (time.perf_counter())\n",
    "for row in selectionSortArr:\n",
    "    selectionSort(row)\n",
    "selectionSort(selectionSortArr)\n",
    "end_time = (time.perf_counter())\n",
    "\n",
    "print(\"--- Сортировка выборкой {:.10f} ms ---\".format((end_time-start_time)*1000))\n",
    "print(\"--- Результат сортировки вставкой ---\")\n",
    "printMatr(selectionSortArr)\n"
   ]
  },
  {
   "cell_type": "code",
   "execution_count": 6,
   "id": "roman-silly",
   "metadata": {
    "scrolled": true
   },
   "outputs": [
    {
     "name": "stdout",
     "output_type": "stream",
     "text": [
      "--- Сортировка вставкой 0.2972000002 ms ---\n",
      "--- Результат сортировки вставкой ---\n",
      "   1   1   2   3   4   6   6   7  10  13  15  15\n",
      "   1   1   3  10  11  11  13  14  17  17  17  20\n",
      "   1   1   4   6  10  11  12  14  17  19  19  19\n",
      "   1   1   5   5   5   7   7   7   8   8   9  11\n",
      "   2   3   4   5   5   7  10  14  17  17  19  19\n",
      "   2   5   8  11  14  14  16  16  18  19  19  20\n",
      "   3   4   6   7   9   9  14  14  16  17  18  20\n",
      "   4   5   5   6   7   7  11  12  12  15  18  20\n"
     ]
    }
   ],
   "source": [
    "# Сортировка вставкой.\n",
    "def insertSort(row):\n",
    "    for i in range(1, len(row)):\n",
    "        buff = row[i]\n",
    "        j = i-1\n",
    "        while row[j] > buff and j >= 0:\n",
    "            row[j + 1] = row[j]\n",
    "            j -= 1\n",
    "        row[j + 1] = buff\n",
    "                \n",
    "                \n",
    "insertSortMatr = copy.deepcopy(matr)\n",
    "\n",
    "start_time = (time.perf_counter())\n",
    "for row in insertSortMatr:\n",
    "    insertSort(row)\n",
    "insertSort(insertSortMatr)\n",
    "end_time = (time.perf_counter())\n",
    "\n",
    "print(\"--- Сортировка вставкой {:.10f} ms ---\".format((end_time-start_time)*1000))\n",
    "print(\"--- Результат сортировки вставкой ---\")\n",
    "printMatr(insertSortMatr)\n",
    "\n",
    "\n"
   ]
  },
  {
   "cell_type": "code",
   "execution_count": 7,
   "id": "vital-implementation",
   "metadata": {},
   "outputs": [
    {
     "name": "stdout",
     "output_type": "stream",
     "text": [
      "--- Сортировка пузырьком 0.5057999988 ms ---\n",
      "--- Результат сортировки пузырьком ---\n",
      "   1   1   2   3   4   6   6   7  10  13  15  15\n",
      "   1   1   3  10  11  11  13  14  17  17  17  20\n",
      "   1   1   4   6  10  11  12  14  17  19  19  19\n",
      "   1   1   5   5   5   7   7   7   8   8   9  11\n",
      "   2   3   4   5   5   7  10  14  17  17  19  19\n",
      "   2   5   8  11  14  14  16  16  18  19  19  20\n",
      "   3   4   6   7   9   9  14  14  16  17  18  20\n",
      "   4   5   5   6   7   7  11  12  12  15  18  20\n"
     ]
    }
   ],
   "source": [
    "# Сортировка обменом. || Сортировка пузырьком.\n",
    "def exchangeSort(row):\n",
    "    for _ in range(len(row)):\n",
    "        for i in range(len(row)-1):\n",
    "            if (row[i] > row[i+1]):\n",
    "                row[i], row[i+1] = row[i+1], row[i]\n",
    "            \n",
    "\n",
    "exchangeSortMatr = copy.deepcopy(matr)\n",
    "\n",
    "start_time = (time.perf_counter())\n",
    "for row in exchangeSortMatr:\n",
    "    exchangeSort(row)\n",
    "exchangeSort(exchangeSortMatr)\n",
    "end_time = (time.perf_counter())\n",
    "\n",
    "print(\"--- Сортировка пузырьком {:.10f} ms ---\".format((end_time-start_time)*1000))\n",
    "print(\"--- Результат сортировки пузырьком ---\")\n",
    "printMatr(exchangeSortMatr)"
   ]
  },
  {
   "cell_type": "code",
   "execution_count": 8,
   "id": "veterinary-glory",
   "metadata": {},
   "outputs": [
    {
     "name": "stdout",
     "output_type": "stream",
     "text": [
      "--- Сортировка Шелла 0.6298999979 ms ---\n",
      "--- Результат сортировки Шелла ---\n",
      "   1   1   2   3   4   6   6   7  10  13  15  15\n",
      "   1   1   3  10  11  11  13  14  17  17  17  20\n",
      "   1   1   4   6  10  11  12  14  17  19  19  19\n",
      "   1   1   5   5   5   7   7   7   8   8   9  11\n",
      "   2   3   4   5   5   7  10  14  17  17  19  19\n",
      "   2   5   8  11  14  14  16  16  18  19  19  20\n",
      "   3   4   6   7   9   9  14  14  16  17  18  20\n",
      "   4   5   5   6   7   7  11  12  12  15  18  20\n"
     ]
    }
   ],
   "source": [
    "# Сортировка Шелла.\n",
    "def shellSort(row):\n",
    "    d = len(row) >> 1\n",
    "    while d > 0:\n",
    "        for i in range(0,  len(row) - d):\n",
    "            j = i\n",
    "            while j >= 0 and row[j] > row[j+d]:\n",
    "                row[j], row[j+d] = row[j+d], row[j]\n",
    "                j-=1\n",
    "        d = d >> 1\n",
    "        \n",
    "        \n",
    "shellSortMatr = copy.deepcopy(matr)\n",
    "\n",
    "start_time = (time.perf_counter())\n",
    "for row in shellSortMatr:\n",
    "    shellSort(row)\n",
    "shellSort(shellSortMatr)\n",
    "end_time = (time.perf_counter())\n",
    "\n",
    "print(\"--- Сортировка Шелла {:.10f} ms ---\".format((end_time-start_time)*1000))\n",
    "print(\"--- Результат сортировки Шелла ---\")\n",
    "printMatr(shellSortMatr)"
   ]
  },
  {
   "cell_type": "code",
   "execution_count": 9,
   "id": "correct-chaos",
   "metadata": {},
   "outputs": [
    {
     "name": "stdout",
     "output_type": "stream",
     "text": [
      "--- быстрая сортировка 0.7359999981 ms ---\n",
      "--- Результат быстрой сортировки ---\n",
      "   1   1   2   3   4   6   6   7  10  13  15  15\n",
      "   1   1   3  10  11  11  13  14  17  17  17  20\n",
      "   1   1   4   6  10  11  12  14  17  19  19  19\n",
      "   1   1   5   5   5   7   7   7   8   8   9  11\n",
      "   2   3   4   5   5   7  10  14  17  17  19  19\n",
      "   2   5   8  11  14  14  16  16  18  19  19  20\n",
      "   3   4   6   7   9   9  14  14  16  17  18  20\n",
      "   4   5   5   6   7   7  11  12  12  15  18  20\n"
     ]
    }
   ],
   "source": [
    "# Быстрая сортировка.\n",
    "def partition(array, begin, end):\n",
    "    pivot = begin\n",
    "    for i in range(begin+1, end+1):\n",
    "        if array[i] <= array[begin]:\n",
    "            pivot += 1\n",
    "            array[i], array[pivot] = array[pivot], array[i]\n",
    "    array[pivot], array[begin] = array[begin], array[pivot]\n",
    "    return pivot\n",
    "\n",
    "def fastSort(array, begin=0, end=None):\n",
    "    if end is None:\n",
    "        end = len(array) - 1\n",
    "    def _fastSort(array, begin, end):\n",
    "        if begin >= end:\n",
    "            return\n",
    "        pivot = partition(array, begin, end)\n",
    "        _fastSort(array, begin, pivot-1)\n",
    "        _fastSort(array, pivot+1, end)\n",
    "        \n",
    "    return _fastSort(array, begin, end)\n",
    "\n",
    "fastSortArr = copy.deepcopy(matr)\n",
    "\n",
    "start_time = (time.perf_counter())\n",
    "for row in fastSortArr:\n",
    "    fastSort(array = row)\n",
    "fastSort(fastSortArr)\n",
    "end_time = (time.perf_counter())\n",
    "\n",
    "print(\"--- быстрая сортировка {:.10f} ms ---\".format((end_time-start_time)*1000))\n",
    "print(\"--- Результат быстрой сортировки ---\")\n",
    "printMatr(fastSortArr)\n",
    "    "
   ]
  },
  {
   "cell_type": "code",
   "execution_count": 25,
   "id": "french-czech",
   "metadata": {},
   "outputs": [
    {
     "name": "stdout",
     "output_type": "stream",
     "text": [
      "--- быстрая сортировка 0.4277000007 ms ---\n",
      "--- Результат турнирной сортировки ---\n",
      "   1   1   2   3   4   6   6   7  10  13  15  15\n",
      "   1   1   3  10  11  11  13  14  17  17  17  20\n",
      "   1   1   4   6  10  11  12  14  17  19  19  19\n",
      "   1   1   5   5   5   7   7   7   8   8   9  11\n",
      "   2   3   4   5   5   7  10  14  17  17  19  19\n",
      "   2   5   8  11  14  14  16  16  18  19  19  20\n",
      "   3   4   6   7   9   9  14  14  16  17  18  20\n",
      "   4   5   5   6   7   7  11  12  12  15  18  20\n"
     ]
    }
   ],
   "source": [
    "# Турнирная сортировка.\n",
    "start_time = time.time()\n",
    "# Турнирная сортировка с многопутевым слиянием.\n",
    "from heapq import *\n",
    "\n",
    "\n",
    "MAX_SIZE = 16\n",
    "\n",
    "def multipath_merge(a: list, b: list) -> list:\n",
    "    result = []\n",
    "    \n",
    "    while len(a) > 0 and len(b) > 0:\n",
    "        if (b[0] < a[0]):\n",
    "            result.append(b.pop(0))\n",
    "        else:\n",
    "            result.append(a.pop(0))\n",
    "            \n",
    "    len_a = len(a)\n",
    "    len_b = len(b)\n",
    "    \n",
    "    if (len_a == 0 and len_b == 0):\n",
    "        return result\n",
    "    \n",
    "    if (len_a > 0):\n",
    "        result += a\n",
    "    else:\n",
    "        result += b\n",
    "                \n",
    "    return result\n",
    "\n",
    "def optTourSort(values: list) -> list:\n",
    "    heap = []\n",
    "    \n",
    "    for i in values:\n",
    "        heappush(heap, i)\n",
    "        \n",
    "    for i in range(len(heap)):\n",
    "        values[i] = heappop(heap)\n",
    "    \n",
    "    return values\n",
    "                \n",
    "def bracketize(values: list) -> list:\n",
    "    heap = []\n",
    "    \n",
    "    while len(heap) <= MAX_SIZE:\n",
    "        heappush(heap, values.pop(0))\n",
    "        \n",
    "    winners = []\n",
    "    losers = []\n",
    "    \n",
    "    while len(values) > 0:\n",
    "        if len(winners) == 0:\n",
    "            winners.append(heappop(heap))\n",
    "            \n",
    "        if values[0] > winners[-1]:\n",
    "            heappush(heap, values.pop(0))\n",
    "        else:\n",
    "            losers.append(values.pop(0))\n",
    "            \n",
    "        if len(heap) > 0:\n",
    "            winners.append(heappop(heap))\n",
    "            \n",
    "    while len(heap) > 0:\n",
    "        winners.append(heappop(heap))\n",
    "        \n",
    "    if len(losers) == 0:\n",
    "        return winners\n",
    "    \n",
    "    return multipath_merge(tournament_sort(losers), winners)\n",
    "\n",
    "\n",
    "def tournamentSort(values: list) -> list:\n",
    "    if (len(values) <= MAX_SIZE):\n",
    "        return optTourSort(values)\n",
    "    else:\n",
    "        return bracketize(values)\n",
    "\n",
    "tournSortArr = copy.deepcopy(matr)\n",
    "\n",
    "start_time = (time.perf_counter())\n",
    "for row in tournSortArr:\n",
    "    tournamentSort(row)\n",
    "tournamentSort(tournSortArr)\n",
    "end_time = (time.perf_counter())\n",
    "\n",
    "print(\"--- быстрая сортировка {:.10f} ms ---\".format((end_time-start_time)*1000))\n",
    "print(\"--- Результат турнирной сортировки ---\")\n",
    "printMatr(tournSortArr)\n"
   ]
  },
  {
   "cell_type": "markdown",
   "id": "rental-jerusalem",
   "metadata": {},
   "source": [
    "### Вывод\n"
   ]
  },
  {
   "cell_type": "markdown",
   "id": "14a51f71",
   "metadata": {},
   "source": [
    "По итогам лабораторной работы была выяснено, что стандартный алгоритм сортировки является наиболее быстродейтсвенным, чем рукописные реализации"
   ]
  }
 ],
 "metadata": {
  "kernelspec": {
   "display_name": "Python 3 (ipykernel)",
   "language": "python",
   "name": "python3"
  },
  "language_info": {
   "codemirror_mode": {
    "name": "ipython",
    "version": 3
   },
   "file_extension": ".py",
   "mimetype": "text/x-python",
   "name": "python",
   "nbconvert_exporter": "python",
   "pygments_lexer": "ipython3",
   "version": "3.10.2"
  }
 },
 "nbformat": 4,
 "nbformat_minor": 5
}
