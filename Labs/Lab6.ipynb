{
 "cells": [
  {
   "cell_type": "markdown",
   "metadata": {
    "id": "0z3KlfKDn4_K"
   },
   "source": [
    "# Лабораторная работа 6. \n",
    "# Сетевые алгоритмы. Динамические алгоритмы поиска путей.\n"
   ]
  },
  {
   "cell_type": "markdown",
   "metadata": {
    "id": "96Gi_LEvmSVH"
   },
   "source": [
    "## Выполнил студент группы БВТ2004 Ким Игорь\n",
    "***"
   ]
  },
  {
   "cell_type": "markdown",
   "metadata": {
    "id": "GjdIp8aToKIe"
   },
   "source": [
    "### Задание\n",
    "\n",
    "1.  Реализовать алгоритм поиска кратчайшего расстояния между двумя вершинами ориентированного взвешенного графа в соответствии с вариантом. \n",
    "\n",
    "2.  Предусмотреть задание графа в виде матрицы смежности/инцидентности, читаемой из файла, либо графически с помощью пользовательского интерфейса. \n",
    "\n",
    "3.  Разработать графический интерфейс пользователя с визуализацией графа и отображением кратчайшего расстояния между задаваемыми пользователем вершинами.\n",
    "\n",
    "4. По результатам работы проанализировать временную сложность работы заданного алгоритма в зависимости от числа узлов и ребер графа.\n",
    "Данные представить в виде таблицы.\n",
    "\n"
   ]
  },
  {
   "cell_type": "markdown",
   "metadata": {
    "id": "LhhUXrAmotIA"
   },
   "source": [
    "### Алгоритмы:\n",
    "\n",
    "Алгоритм Флойда-Уоршелла| Алгоритм Дейкстры | Алгоритм Беллмана-Форда | Алгоритм Джонсона| Алгоритм Левита | Алгоритм Йена\n",
    "\n"
   ]
  },
  {
   "cell_type": "code",
   "execution_count": 13,
   "metadata": {},
   "outputs": [],
   "source": [
    "import ipycytoscape\n",
    "import math\n",
    "import copy\n",
    "import time\n",
    "from ipywidgets import Output\n",
    "from IPython.display import display\n",
    "from pprint import pformat\n",
    "from heapq import *"
   ]
  },
  {
   "cell_type": "code",
   "execution_count": 25,
   "metadata": {},
   "outputs": [],
   "source": [
    "def graph_from_str(str_graph: str):\n",
    "    graph = [[weight for weight in row.split()] for row in str_graph.split('\\n')] \n",
    "    \n",
    "    for row in range(len(graph)):\n",
    "        for col in range(len(graph)):\n",
    "            if graph[row][col] == '-':\n",
    "                graph[row][col] = math.inf\n",
    "            else:\n",
    "                graph[row][col] = int(graph[row][col])\n",
    "\n",
    "    return graph\n",
    "\n",
    "def read_test_graphs():\n",
    "    file = open('exmpl_files/test_graphs.txt', 'r')\n",
    "    file_data = file.read()\n",
    "    file.close()\n",
    "    \n",
    "    str_graphs = file_data.split('\\n////\\n')\n",
    "    graphs = []\n",
    "    \n",
    "    for str_graph in str_graphs:\n",
    "        graphs.append(graph_from_str(str_graph))\n",
    "        \n",
    "    return graphs\n",
    "\n",
    "def nodes_count(matrix: list):\n",
    "    return len(matrix)\n",
    "\n",
    "def edges_count(matrix: list):\n",
    "    doubles = []\n",
    "    cnt = 0\n",
    "    for i in range(len(matrix)):\n",
    "        for j in range(len(matrix)):\n",
    "            if (matrix[i][j] != math.inf and i != j):\n",
    "                doubles += [str(i+1) + str(j+1)]\n",
    "\n",
    "    for i in range(len(matrix)):\n",
    "        for j in range(len(matrix)):\n",
    "            if (matrix[i][j] != math.inf and i != j):\n",
    "                if ((str(j+1) + str(i+1)) not in doubles):\n",
    "                    cnt += 1\n",
    "    return cnt\n",
    "                    \n",
    "def do_tests(graphs: list, fr: int, to: int, strategy: callable):\n",
    "    results = []\n",
    "    for gr in grphs:\n",
    "        edges = edges_count(gr)\n",
    "        nodes = nodes_count(gr)\n",
    "        start_time = (time.perf_counter())\n",
    "        strategy(gr, 1, 3)\n",
    "        end_time = (time.perf_counter())\n",
    "        results.append([edges, nodes, end_time - start_time])\n",
    "    print_results(results)\n",
    "        \n",
    "def print_results(results: list):\n",
    "    print (\"{:<6} | {:<6} | {:<8}\".format('edges', 'nodes', 'time(ms)'))\n",
    "    for result in results:\n",
    "        print (\"{:<6} | {:<6} | {:<8}\".format(result[0], result[1], result[2]*100))\n",
    "        \n",
    "def print_matrix(matrix: list[list[int]]):\n",
    "    print('\\n'.join([''.join(['{:8}'.format(str(item)) for item in row]) for row in matrix]))"
   ]
  },
  {
   "cell_type": "code",
   "execution_count": 7,
   "metadata": {},
   "outputs": [],
   "source": [
    "class Heap(object):\n",
    "    def __init__(self):\n",
    "        self.index = 0\n",
    "        self.__data = []\n",
    "\n",
    "    def push(self, item, priority: int):\n",
    "        heappush(self.__data, (priority, self.index, item))\n",
    "        self.index += 1\n",
    "\n",
    "    def pop(self):\n",
    "        return heappop(self.__data)[2]\n",
    "\n",
    "    def size(self) -> int:\n",
    "        return len(self.__data)\n",
    "\n",
    "    def __str__(self) -> str:\n",
    "        return str(self.__data)\n",
    "\n",
    "    def __repr__(self) -> str:\n",
    "        return self.__str__()\n"
   ]
  },
  {
   "cell_type": "code",
   "execution_count": 10,
   "metadata": {},
   "outputs": [],
   "source": [
    "class InteractiveGraph:\n",
    "    def __init__(self, matrix = None, strat: callable = None):\n",
    "        self.__cytoscapeobj = ipycytoscape.CytoscapeWidget()\n",
    "        self.__out = Output()\n",
    "\n",
    "        self.__selected_nodes = []\n",
    "        self.__source = []\n",
    "        self.__path = None\n",
    "        \n",
    "        if (matrix is not None):\n",
    "            self.set_data(matrix)\n",
    "        if (strat is not None):\n",
    "            self.__strat = strat\n",
    "            \n",
    "        self.__init_styles()\n",
    "        self.__init_events()\n",
    "    \n",
    "    def set_data(self, matrix):\n",
    "        if (type(matrix) == list):\n",
    "            matrix = self.__convert_data(matrix)\n",
    "        self.__cytoscapeobj.graph.add_graph_from_json(matrix)\n",
    "    \n",
    "    def __convert_data(self, matrix: list):\n",
    "        self.__source = matrix\n",
    "        result = {\n",
    "            'nodes' : [],\n",
    "            'edges' : [],\n",
    "        }\n",
    "        nodes_count = len(matrix)\n",
    "\n",
    "        for i in range(nodes_count):\n",
    "            result['nodes'].append({'data': { 'id': i+1, 'name' : i+1}})\n",
    "            \n",
    "        doubles = []\n",
    "        for i in range(nodes_count):\n",
    "            for j in range(nodes_count):\n",
    "                if (matrix[i][j] != math.inf and i != j):\n",
    "                    doubles += [str(i+1) + str(j+1)]\n",
    "                    \n",
    "        for i in range(nodes_count):\n",
    "            for j in range(nodes_count):\n",
    "                if (matrix[i][j] != math.inf and i != j):\n",
    "                    if ((str(j+1) + str(i+1)) not in doubles):\n",
    "                        result['edges'].append({'data': { 'source': i+1, 'target': j+1, 'weight': matrix[i][j], 'arrow': 'bezier'}})\n",
    "                    else:\n",
    "                        result['edges'].append({'data': { 'source': i+1, 'target': j+1, 'weight': matrix[i][j]}})\n",
    "        return result\n",
    "    \n",
    "    def set_strategy(self, strat: callable):\n",
    "        self.__strat = strat\n",
    "    \n",
    "    def display(self):\n",
    "        display(self.__cytoscapeobj)\n",
    "        display(self.__out)\n",
    "        \n",
    "    def __init_events(self):\n",
    "        def click_handler(node):\n",
    "            if (node['data']['id'] not in self.__selected_nodes):\n",
    "                if (len(self.__selected_nodes) == 2):\n",
    "                    old = self.__selected_nodes.pop(0)\n",
    "                    delt = self.__cytoscapeobj.graph.nodes[int(old) - 1]\n",
    "                    delt.classes = ''\n",
    "                    \n",
    "                    self.__selected_nodes.append(node['data']['id'])\n",
    "                    new = self.__cytoscapeobj.graph.nodes[int(node['data']['id']) - 1]\n",
    "                    new.classes = 'highlighted'\n",
    "                    \n",
    "                    self.__reset_path()\n",
    "                else:\n",
    "                    self.__selected_nodes.append(node['data']['id'])\n",
    "                    new = self.__cytoscapeobj.graph.nodes[int(node['data']['id']) - 1]\n",
    "                    new.classes = 'highlighted'\n",
    "            else:\n",
    "                self.__selected_nodes.remove(node['data']['id'])\n",
    "                delt = self.__cytoscapeobj.graph.nodes[int(node['data']['id']) - 1]\n",
    "                delt.classes = ''\n",
    "                self.__reset_path()\n",
    "            if (len(self.__selected_nodes) == 2) :     \n",
    "                    self.__calculate(int(self.__selected_nodes[0]), int(self.__selected_nodes[1]))\n",
    "                    if (type(self.__path) == list):\n",
    "                        self.__light_path()\n",
    "                        \n",
    "        self.__cytoscapeobj.on('node', 'click', click_handler)\n",
    "    \n",
    "    def __calculate(self, fr, to):\n",
    "        self.__path = self.__strat(copy.deepcopy(self.__source), fr, to)\n",
    "    \n",
    "    def __light_path(self):\n",
    "        for i in range(len(self.__path) - 1):\n",
    "            src = self.__path[i]\n",
    "            trg = self.__path[i + 1]\n",
    "            for edge in self.__cytoscapeobj.graph.edges:\n",
    "                if (edge.data['source'] == src and edge.data['target'] == trg or  edge.data['source'] == trg and edge.data['target'] == src):\n",
    "                    edge.classes += 'highlighted'\n",
    "    \n",
    "    def __reset_path(self):\n",
    "        for edge in self.__cytoscapeobj.graph.edges:\n",
    "            edge.classes = ''\n",
    "        self.__path = None\n",
    "    \n",
    "    def refresh(self):\n",
    "        self.__init_styles()\n",
    "        self.__init_events()\n",
    "    \n",
    "    def __init_styles(self):\n",
    "        self.__cytoscapeobj.set_layout(name='cola')\n",
    "        self.__cytoscapeobj.set_style(\n",
    "                       [{\n",
    "                          \"selector\":\"node\",\n",
    "                          \"style\":{\n",
    "                             'text-valign': 'center',\n",
    "                             \"height\": 20,\n",
    "                             \"color\" : \"#ffffff\",\n",
    "                             \"width\": 20,\n",
    "                             \"background-color\": \"#11479e\",\n",
    "                             \"content\" : \"data(name)\"\n",
    "                          }\n",
    "                       },\n",
    "                       {\n",
    "                          \"selector\":\"edge\",\n",
    "                          \"style\":{\n",
    "                             \"content\" : 'data(weight)',\n",
    "                             \"width\":5,\n",
    "                             \"opacity\":0.5,\n",
    "                             'line-color': '#9dbaea',\n",
    "                             'target-arrow-shape': 'triangle',\n",
    "                             'target-arrow-color': '#9dbaea',\n",
    "                             'curve-style': 'data(arrow)'\n",
    "                          }\n",
    "                       },\n",
    "                       {\n",
    "                           \"selector\": \"edge.highlighted\",\n",
    "                            \"css\":{\n",
    "                                \"line-color\": \"#008000\",\n",
    "                                'line-color': '#008000',\n",
    "                                'target-arrow-shape': 'triangle',\n",
    "                                'target-arrow-color': '#008000',\n",
    "                                'curve-style': 'data(arrow)'\n",
    "                            }\n",
    "                       },\n",
    "                       {\n",
    "                           \"selector\": \"node.highlighted\",\n",
    "                            \"css\": {\n",
    "                                \"background-color\": \"green\",\n",
    "                                'target-arrow-color': '#008000',\n",
    "                            }\n",
    "                       },\n",
    "                       {\n",
    "                           \"selector\": \"edge.double\",\n",
    "                            \"css\": {\n",
    "                                \"line-color\": \"#008000\",\n",
    "                                'line-color': '#008000',\n",
    "                            }\n",
    "                       }\n",
    "                    ])\n",
    "grphs = read_test_graphs()        "
   ]
  },
  {
   "cell_type": "markdown",
   "metadata": {
    "id": "Wggfn8l7nG72"
   },
   "source": [
    "### Выполнение:"
   ]
  },
  {
   "cell_type": "code",
   "execution_count": 37,
   "metadata": {
    "id": "681a95mZnOSa",
    "scrolled": true
   },
   "outputs": [
    {
     "data": {
      "application/vnd.jupyter.widget-view+json": {
       "model_id": "20d968ae34c7474c90a3f15f1247bee0",
       "version_major": 2,
       "version_minor": 0
      },
      "text/plain": [
       "CytoscapeWidget(cytoscape_layout={'name': 'cola'}, cytoscape_style=[{'selector': 'node', 'style': {'text-valig…"
      ]
     },
     "metadata": {},
     "output_type": "display_data"
    },
    {
     "data": {
      "application/vnd.jupyter.widget-view+json": {
       "model_id": "f1325c58a8794691ab3e20a98e152f84",
       "version_major": 2,
       "version_minor": 0
      },
      "text/plain": [
       "Output()"
      ]
     },
     "metadata": {},
     "output_type": "display_data"
    },
    {
     "name": "stdout",
     "output_type": "stream",
     "text": [
      "edges  | nodes  | time(ms)\n",
      "6      | 5      | 0.012570001126732677\n",
      "7      | 5      | 0.010479999764356762\n",
      "8      | 5      | 0.01033000007737428\n",
      "8      | 6      | 0.014950000331737101\n",
      "9      | 6      | 0.01483000087318942\n",
      "10     | 6      | 0.015290000010281801\n",
      "11     | 8      | 0.02944999869214371\n",
      "12     | 8      | 0.029919999360572547\n",
      "13     | 8      | 0.03026999911526218\n"
     ]
    }
   ],
   "source": [
    "# Алгоритм Флойда-Уоршелла\n",
    "def floyd(graph: list[list[int]], start: int, end: int) -> list[int]:\n",
    "    inf_graph = copy.deepcopy(graph)\n",
    "    prev_graph = [[None for _ in range(len(graph))] for _ in range(len(graph))]\n",
    "    start -= 1\n",
    "    end -= 1\n",
    "    \n",
    "    for row in range(len(inf_graph)):\n",
    "        for col in range(len(inf_graph)):\n",
    "            if col == row:\n",
    "                inf_graph[row][col] = 0\n",
    "\n",
    "            if 0 < inf_graph[row][col] < math.inf:\n",
    "                prev_graph[row][col] = row\n",
    "                  \n",
    "    for k in range(len(inf_graph)):\n",
    "        for i in range(len(inf_graph)):\n",
    "            for j in range(len(inf_graph)):\n",
    "                if inf_graph[i][k] + inf_graph[k][j] < inf_graph[i][j]:    \n",
    "                    inf_graph[i][j] = inf_graph[i][k] + inf_graph[k][j]\n",
    "                    prev_graph[i][j] = prev_graph[k][j]\n",
    "    \n",
    "    if prev_graph[start][end] is None:\n",
    "        return []\n",
    "    \n",
    "    path = []\n",
    "    \n",
    "    while end != None:\n",
    "        path.append(end + 1)\n",
    "        end = prev_graph[start][end]\n",
    "        \n",
    "    return list(reversed(path))\n",
    "\n",
    "gr = InteractiveGraph()\n",
    "gr.set_strategy(floyd)\n",
    "gr.set_data(grphs[-1])\n",
    "gr.display()\n",
    "\n",
    "do_tests(grphs, 1, 3, floyd)"
   ]
  },
  {
   "cell_type": "code",
   "execution_count": 27,
   "metadata": {},
   "outputs": [
    {
     "data": {
      "application/vnd.jupyter.widget-view+json": {
       "model_id": "14c00f93e9f4468294a6809c3b049c68",
       "version_major": 2,
       "version_minor": 0
      },
      "text/plain": [
       "CytoscapeWidget(cytoscape_layout={'name': 'cola'}, cytoscape_style=[{'selector': 'node', 'style': {'text-valig…"
      ]
     },
     "metadata": {},
     "output_type": "display_data"
    },
    {
     "data": {
      "application/vnd.jupyter.widget-view+json": {
       "model_id": "4eb2eff72a524f76b8272f1a615a407e",
       "version_major": 2,
       "version_minor": 0
      },
      "text/plain": [
       "Output()"
      ]
     },
     "metadata": {},
     "output_type": "display_data"
    },
    {
     "name": "stdout",
     "output_type": "stream",
     "text": [
      "edges  | nodes  | time(ms)\n",
      "6      | 5      | 0.0035999997635371983\n",
      "7      | 5      | 0.0017400001524947584\n",
      "8      | 5      | 0.001720000000204891\n",
      "8      | 6      | 0.0016299993149004877\n",
      "9      | 6      | 0.0015199999324977398\n",
      "10     | 6      | 0.0015199999324977398\n",
      "11     | 8      | 0.002340000355616212\n",
      "12     | 8      | 0.002430001040920615\n",
      "13     | 8      | 0.0023600005079060793\n"
     ]
    }
   ],
   "source": [
    "# Алгоритм Дейкстры\n",
    "def deks(graph: list[list[int]], start: int, end: int) -> list[int]:\n",
    "    start -= 1\n",
    "    end -= 1\n",
    "    prev_graph = [[None for _ in range(len(graph))] for _ in range(len(graph))]\n",
    "    \n",
    "    heap = Heap()\n",
    "    heap.push(start, 0)\n",
    "    came_from = {start: None}\n",
    "    cost_so_far = {start: 0}\n",
    "    \n",
    "    while heap.size() > 0:\n",
    "        current = heap.pop()\n",
    "        \n",
    "        if current == end:\n",
    "            break\n",
    "            \n",
    "        neigbors = []\n",
    "        \n",
    "        for neighbor in range(len(graph[current])):\n",
    "            if graph[current][neighbor] < math.inf:\n",
    "                new_cost = cost_so_far[current] + graph[current][neighbor]\n",
    "                if neighbor not in cost_so_far or new_cost < cost_so_far[neighbor]:\n",
    "                    cost_so_far[neighbor] = new_cost\n",
    "                    priority = new_cost\n",
    "                    heap.push(neighbor, priority)\n",
    "                    came_from[neighbor] = current\n",
    "                    \n",
    "    if current != end:\n",
    "        return []\n",
    "                \n",
    "    path = []\n",
    "\n",
    "    while current is not None:\n",
    "        path.append(str(current + 1))\n",
    "        current = came_from[current]\n",
    "    path.reverse()\n",
    "    path = [int(el) for el in path]\n",
    "    return path\n",
    "    \n",
    "    \n",
    "gr = InteractiveGraph()\n",
    "gr.set_strategy(deks)\n",
    "gr.set_data(grphs[-2])\n",
    "gr.display()\n",
    "\n",
    "do_tests(grphs, 1, 3, deks)"
   ]
  },
  {
   "cell_type": "code",
   "execution_count": 29,
   "metadata": {},
   "outputs": [
    {
     "data": {
      "application/vnd.jupyter.widget-view+json": {
       "model_id": "172d2f811e504a518ef96765415a338f",
       "version_major": 2,
       "version_minor": 0
      },
      "text/plain": [
       "CytoscapeWidget(cytoscape_layout={'name': 'cola'}, cytoscape_style=[{'selector': 'node', 'style': {'text-valig…"
      ]
     },
     "metadata": {},
     "output_type": "display_data"
    },
    {
     "data": {
      "application/vnd.jupyter.widget-view+json": {
       "model_id": "d891d4208d484cff9228d7eec04fe28b",
       "version_major": 2,
       "version_minor": 0
      },
      "text/plain": [
       "Output()"
      ]
     },
     "metadata": {},
     "output_type": "display_data"
    },
    {
     "name": "stdout",
     "output_type": "stream",
     "text": [
      "edges  | nodes  | time(ms)\n",
      "6      | 5      | 0.006749999010935426\n",
      "7      | 5      | 0.006059999577701092\n",
      "8      | 5      | 0.006040000880602747\n",
      "8      | 6      | 0.009709999721962959\n",
      "9      | 6      | 0.01109000004362315\n",
      "10     | 6      | 0.00957000011112541\n",
      "11     | 8      | 0.020519999088719487\n",
      "12     | 8      | 0.022119999630376697\n",
      "13     | 8      | 0.03442000015638769\n"
     ]
    }
   ],
   "source": [
    "# Алгоритм Беллмана-Форда\n",
    "def bellman_ford(graph: list[list[int]], start: int, end: int) -> list[int]:                \n",
    "    start -= 1\n",
    "    end -= 1\n",
    "    dist = [math.inf] * len(graph)\n",
    "    dist[start] = 0\n",
    "    prevs = [None] * len(graph)\n",
    "    \n",
    "    for k in range(len(graph) - 1):\n",
    "        for i in range(len(graph)):\n",
    "            for j in range(len(graph)):\n",
    "                if dist[i] < math.inf and dist[i] + graph[i][j] < dist[j]:\n",
    "                    prevs[j] = i\n",
    "                    dist[j] = dist[i] + graph[i][j]\n",
    "                \n",
    "    for i in range(len(graph)):\n",
    "        for j in range(len(graph)):\n",
    "            if dist[i] < math.inf and dist[i] + graph[i][j] < dist[j]:\n",
    "                # Граф содержит цикл отрицательного веса\n",
    "                return []\n",
    "    \n",
    "    if prevs[end] == None:\n",
    "        return []\n",
    "    \n",
    "    path = []\n",
    "            \n",
    "    while end is not None:\n",
    "        path.append(str(end + 1))\n",
    "        end = prevs[end]\n",
    "        \n",
    "    path.reverse()\n",
    "    path = [int(el) for el in path]\n",
    "    \n",
    "    return path\n",
    "\n",
    "gr = InteractiveGraph()\n",
    "gr.set_strategy(bellman_ford)\n",
    "gr.set_data(grphs[-3])\n",
    "gr.display()\n",
    "\n",
    "do_tests(grphs, 1, 3, bellman_ford)"
   ]
  },
  {
   "cell_type": "code",
   "execution_count": 30,
   "metadata": {},
   "outputs": [
    {
     "data": {
      "application/vnd.jupyter.widget-view+json": {
       "model_id": "dd39f30b6fa248758cb3f6063a13dece",
       "version_major": 2,
       "version_minor": 0
      },
      "text/plain": [
       "CytoscapeWidget(cytoscape_layout={'name': 'cola'}, cytoscape_style=[{'selector': 'node', 'style': {'text-valig…"
      ]
     },
     "metadata": {},
     "output_type": "display_data"
    },
    {
     "data": {
      "application/vnd.jupyter.widget-view+json": {
       "model_id": "373456a761994a649da99731ec7005e9",
       "version_major": 2,
       "version_minor": 0
      },
      "text/plain": [
       "Output()"
      ]
     },
     "metadata": {},
     "output_type": "display_data"
    },
    {
     "name": "stdout",
     "output_type": "stream",
     "text": [
      "edges  | nodes  | time(ms)\n",
      "6      | 5      | 0.03436999977566302\n",
      "7      | 5      | 0.03040000010514632\n",
      "8      | 5      | 0.030089999199844897\n",
      "8      | 6      | 0.042019999818876386\n",
      "9      | 6      | 0.056540001241955906\n",
      "10     | 6      | 0.08202000026358292\n",
      "11     | 8      | 0.07405999931506813\n",
      "12     | 8      | 0.0701400000252761\n",
      "13     | 8      | 0.11395999899832532\n"
     ]
    }
   ],
   "source": [
    "# Алгоритм Джонсона\n",
    "def johns(graph: list[list[int]], start: int, end: int) -> list[int]:\n",
    "    bf_graph = copy.deepcopy(graph)\n",
    "    \n",
    "    for row in range(len(bf_graph)):\n",
    "        bf_graph[row].append(math.inf)\n",
    "        \n",
    "    bf_graph.append([0] * len(bf_graph))\n",
    "    bf_graph[-1].append(math.inf)\n",
    "    \n",
    "    dist = [math.inf] * len(bf_graph)\n",
    "    dist[-1] = 0\n",
    "    \n",
    "    for k in range(len(bf_graph) - 1):\n",
    "        for i in range(len(bf_graph)):\n",
    "            for j in range(len(bf_graph)):\n",
    "                if dist[i] < math.inf and dist[i] + bf_graph[i][j] < dist[j]:\n",
    "                    dist[j] = dist[i] + bf_graph[i][j]\n",
    "                \n",
    "    for i in range(len(bf_graph)):\n",
    "        for j in range(len(bf_graph)):\n",
    "            if dist[i] < math.inf and dist[i] + bf_graph[i][j] < dist[j]:\n",
    "                # Граф содержит цикл отрицательного веса\n",
    "                return []\n",
    "            \n",
    "    d_graph = copy.deepcopy(graph)\n",
    "    \n",
    "    for row in range(len(d_graph)):\n",
    "        for col in range(len(d_graph)):\n",
    "            d_graph[row][col] = d_graph[row][col] + dist[row] - dist[col]\n",
    "          \n",
    "    return deks(d_graph, start, end)\n",
    "\n",
    "gr = InteractiveGraph()\n",
    "gr.set_strategy(johns)\n",
    "gr.set_data(grphs[-4])\n",
    "gr.display()\n",
    "\n",
    "do_tests(grphs, 1, 3, johns)"
   ]
  },
  {
   "cell_type": "code",
   "execution_count": 31,
   "metadata": {},
   "outputs": [
    {
     "data": {
      "application/vnd.jupyter.widget-view+json": {
       "model_id": "0b433f4c25fc4911bf731ec3977deaa6",
       "version_major": 2,
       "version_minor": 0
      },
      "text/plain": [
       "CytoscapeWidget(cytoscape_layout={'name': 'cola'}, cytoscape_style=[{'selector': 'node', 'style': {'text-valig…"
      ]
     },
     "metadata": {},
     "output_type": "display_data"
    },
    {
     "data": {
      "application/vnd.jupyter.widget-view+json": {
       "model_id": "227ae02416844c69960a46be4a4a88da",
       "version_major": 2,
       "version_minor": 0
      },
      "text/plain": [
       "Output()"
      ]
     },
     "metadata": {},
     "output_type": "display_data"
    },
    {
     "name": "stdout",
     "output_type": "stream",
     "text": [
      "edges  | nodes  | time(ms)\n",
      "6      | 5      | 0.002919998951256275\n",
      "7      | 5      | 0.0020000006770715117\n",
      "8      | 5      | 0.0030800001695752144\n",
      "8      | 6      | 0.0021100000594742596\n",
      "9      | 6      | 0.002069999754894525\n",
      "10     | 6      | 0.008260000322479755\n",
      "11     | 8      | 0.006269999721553177\n",
      "12     | 8      | 0.004189999890513718\n",
      "13     | 8      | 0.009539999882690609\n"
     ]
    }
   ],
   "source": [
    "# Алгоритм Левита\n",
    "def levit(graph: list[list[int]], start: int, end: int) -> list[int]:    \n",
    "    start -= 1\n",
    "    end -= 1\n",
    "    \n",
    "    dist = [math.inf] * len(graph)\n",
    "    dist[start] = 0\n",
    "    \n",
    "    prevs = [None] * len(graph)\n",
    "    \n",
    "    ready = []\n",
    "    processing = []\n",
    "    waiting = []\n",
    "    \n",
    "    processing.append(start)\n",
    "    \n",
    "    for vertex in range(len(graph)):\n",
    "        if vertex != start:\n",
    "            waiting.append(vertex)\n",
    "            \n",
    "    while len(processing) > 0:\n",
    "        vertex = processing.pop(0)\n",
    "        ready.append(vertex)\n",
    "        \n",
    "        for neighbor in range(len(graph)):\n",
    "            if graph[vertex][neighbor] < math.inf:\n",
    "                if neighbor in waiting:\n",
    "                    processing.append(neighbor)\n",
    "                    waiting.remove(neighbor)\n",
    "                    dist[neighbor] = dist[vertex] + graph[vertex][neighbor]\n",
    "                    prevs[neighbor] = vertex\n",
    "                    \n",
    "                elif neighbor in processing:\n",
    "                    if dist[vertex] + graph[vertex][neighbor] < dist[neighbor]:\n",
    "                        dist[neighbor] = dist[vertex] + graph[vertex][neighbor]\n",
    "                        prevs[neighbor] = vertex\n",
    "                    \n",
    "                elif neighbor in ready:\n",
    "                    if dist[vertex] + graph[vertex][neighbor] < dist[neighbor]:\n",
    "                        dist[neighbor] = dist[vertex] + graph[vertex][neighbor]\n",
    "                        processing.insert(0, neighbor)\n",
    "                        ready.remove(neighbor)\n",
    "                        prevs[neighbor] = vertex\n",
    "                                                \n",
    "    path = []\n",
    "            \n",
    "    while end is not None:\n",
    "        path.append(str(end + 1))\n",
    "        end = prevs[end]\n",
    "    \n",
    "    path.reverse()\n",
    "    path = [int(el) for el in path]\n",
    "    \n",
    "    return path\n",
    "\n",
    "gr = InteractiveGraph()\n",
    "gr.set_strategy(levit)\n",
    "gr.set_data(grphs[-5])\n",
    "gr.display()\n",
    "\n",
    "do_tests(grphs, 1, 3, levit)"
   ]
  },
  {
   "cell_type": "code",
   "execution_count": 36,
   "metadata": {},
   "outputs": [
    {
     "name": "stdout",
     "output_type": "stream",
     "text": [
      "Номер кратчайшего пути 1\n"
     ]
    },
    {
     "data": {
      "application/vnd.jupyter.widget-view+json": {
       "model_id": "8e5a57c1fd0f4df78dd1f1098584d97c",
       "version_major": 2,
       "version_minor": 0
      },
      "text/plain": [
       "CytoscapeWidget(cytoscape_layout={'name': 'cola'}, cytoscape_style=[{'selector': 'node', 'style': {'text-valig…"
      ]
     },
     "metadata": {},
     "output_type": "display_data"
    },
    {
     "data": {
      "application/vnd.jupyter.widget-view+json": {
       "model_id": "fde8dcb555c54af298e455f2c9719862",
       "version_major": 2,
       "version_minor": 0
      },
      "text/plain": [
       "Output()"
      ]
     },
     "metadata": {},
     "output_type": "display_data"
    },
    {
     "name": "stdout",
     "output_type": "stream",
     "text": [
      "edges  | nodes  | time(ms)\n",
      "6      | 5      | 0.0036299999919719994\n",
      "7      | 5      | 0.0016899997717700899\n",
      "8      | 5      | 0.0017099999240599573\n",
      "8      | 6      | 0.0015899990103207529\n",
      "9      | 6      | 0.0015700003132224083\n",
      "10     | 6      | 0.0015300000086426735\n",
      "11     | 8      | 0.0024199995095841587\n",
      "12     | 8      | 0.0025000001187436283\n",
      "13     | 8      | 0.0023999993572942913\n"
     ]
    }
   ],
   "source": [
    "# Алгоритм Йена\n",
    "def path_length(path: list[int], graph: list[list[int]]):\n",
    "    length = 0\n",
    "    \n",
    "    for i in range(1, len(path)):\n",
    "        length += graph[int(path[i - 1]) - 1][int(path[i]) - 1]\n",
    "    \n",
    "    return length\n",
    "\n",
    "def yen(graph: list[list[int]], start: int, end: int) -> list[int]:\n",
    "    global k\n",
    "    shortest = deks(graph, start, end)\n",
    "    visited = [shortest]\n",
    "    \n",
    "    while k > 1:\n",
    "        new_shortest = None\n",
    "        new_shortest_length = math.inf\n",
    "        \n",
    "        for i in range(1, len(shortest)):\n",
    "            new_graph = copy.deepcopy(graph)\n",
    "            new_graph[int(shortest[i - 1]) - 1][int(shortest[i]) - 1] = math.inf\n",
    "            \n",
    "            path = deks(new_graph, start, end)\n",
    "            path_len = path_length(path, new_graph)\n",
    "            \n",
    "            if len(path) > 1 and path_len < new_shortest_length and path not in visited:\n",
    "                new_shortest_length = path_len\n",
    "                new_shortest = path\n",
    "                \n",
    "        if new_shortest == None:\n",
    "            return []\n",
    "                \n",
    "        shortest = new_shortest\n",
    "        visited.append(shortest)\n",
    "        k -= 1\n",
    "    \n",
    "    return shortest\n",
    "\n",
    "k = int(input('Номер кратчайшего пути '))\n",
    "gr = InteractiveGraph()\n",
    "gr.set_strategy(yen)\n",
    "gr.set_data(grphs[-5])\n",
    "gr.display()\n",
    "\n",
    "do_tests(grphs, 1, 3, yen)"
   ]
  }
 ],
 "metadata": {
  "colab": {
   "name": "Lab6.ipynb",
   "provenance": []
  },
  "kernelspec": {
   "display_name": "Python 3 (ipykernel)",
   "language": "python",
   "name": "python3"
  },
  "language_info": {
   "codemirror_mode": {
    "name": "ipython",
    "version": 3
   },
   "file_extension": ".py",
   "mimetype": "text/x-python",
   "name": "python",
   "nbconvert_exporter": "python",
   "pygments_lexer": "ipython3",
   "version": "3.10.4"
  }
 },
 "nbformat": 4,
 "nbformat_minor": 1
}
