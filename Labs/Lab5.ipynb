{
 "cells": [
  {
   "cell_type": "markdown",
   "metadata": {
    "id": "WPvB9TcMmKA6"
   },
   "source": [
    "# Лабораторная работа №5\n",
    "# Рекурсия. Фракталы."
   ]
  },
  {
   "cell_type": "markdown",
   "metadata": {
    "id": "96Gi_LEvmSVH"
   },
   "source": [
    "## Выполнил студент группы БВТ2004 Ким И.В.\n",
    "***"
   ]
  },
  {
   "cell_type": "markdown",
   "metadata": {
    "id": "4clYOyb0mbEv"
   },
   "source": [
    "### Задание:\n",
    "Реализовать генерацию заданного типа фрактала с применением рекурсивных функций.\n",
    "\n",
    "\n",
    "Добавить возможность задания глубины фрактала. \n",
    "\n",
    "\n",
    "Оценить глубину рекурсии. \n",
    "\n",
    "\n",
    "Построить таблицу зависимости времени построения от глубины фрактала."
   ]
  },
  {
   "cell_type": "markdown",
   "metadata": {
    "id": "wDXHbUmMmhRL"
   },
   "source": [
    "### Список фракталов:\n",
    "\n",
    "Кривая Коха\n",
    "| Кривая Гильберта\n",
    "| Кривая Серпинского\n",
    "| Салфетка Серпинского\n",
    "| Ковер Серпинского\n",
    "| Дерево Пифагора "
   ]
  },
  {
   "cell_type": "markdown",
   "metadata": {
    "id": "Wggfn8l7nG72"
   },
   "source": [
    "### Выполнение:"
   ]
  },
  {
   "cell_type": "code",
   "execution_count": 15,
   "metadata": {},
   "outputs": [],
   "source": [
    "import ipyturtle3 as turtle\n",
    "from ipyturtle3 import hold_canvas\n",
    "import time as tm\n",
    "\n",
    "def build_table(res:list):\n",
    "    print (\"{:<3} | {:<8}\".format('n', 'time'))\n",
    "    for i in range(len(res)):\n",
    "        print (\"{:<3} | {:<8}\".format(i+1, round(res[i], 6)))\n",
    "    \n",
    "        "
   ]
  },
  {
   "cell_type": "code",
   "execution_count": 9,
   "metadata": {},
   "outputs": [
    {
     "data": {
      "application/vnd.jupyter.widget-view+json": {
       "model_id": "3d88d6eebf474666bea28a29e9b5d270",
       "version_major": 2,
       "version_minor": 0
      },
      "text/plain": [
       "Canvas(width=500)"
      ]
     },
     "metadata": {},
     "output_type": "display_data"
    },
    {
     "data": {
      "application/vnd.jupyter.widget-view+json": {
       "model_id": "8f9f709f4cf34028b36bb4272f90d314",
       "version_major": 2,
       "version_minor": 0
      },
      "text/plain": [
       "Canvas(width=500)"
      ]
     },
     "metadata": {},
     "output_type": "display_data"
    },
    {
     "data": {
      "application/vnd.jupyter.widget-view+json": {
       "model_id": "2cf24172e08c4dd1850c113484fd92c7",
       "version_major": 2,
       "version_minor": 0
      },
      "text/plain": [
       "Canvas(width=500)"
      ]
     },
     "metadata": {},
     "output_type": "display_data"
    },
    {
     "name": "stdout",
     "output_type": "stream",
     "text": [
      "n   | time    \n",
      "0   | 0.376155\n",
      "1   | 1.51267 \n",
      "2   | 6.02545 \n"
     ]
    }
   ],
   "source": [
    "def koch_curve(size, n):    \n",
    "    if n == 0:\n",
    "        t.forward(size)\n",
    "    else:\n",
    "        koch_curve(size / 3, n - 1)\n",
    "        t.left(60)\n",
    "        koch_curve(size / 3, n - 1)\n",
    "        t.right(120)\n",
    "        koch_curve(size / 3, n - 1)\n",
    "        t.left(60)\n",
    "        koch_curve(size / 3, n - 1)\n",
    "        \n",
    "def draw_koch_snowflake(size, n):\n",
    "    for i in range(3):\n",
    "        koch_curve(size, n)\n",
    "        t.right(120)\n",
    "        \n",
    "res = []\n",
    "for i in range(1, 4):\n",
    "    myCanvas = turtle.Canvas(width=500,height=500)\n",
    "    display(myCanvas)\n",
    "    myTS = turtle.TurtleScreen(myCanvas)\n",
    "    myTS.clear()\n",
    "    myTS.bgcolor(\"black\")\n",
    "    t = turtle.Turtle(myTS)\n",
    "    t.speed(100)\n",
    "    t.pencolor('blue')\n",
    "\n",
    "    start_time = (tm.perf_counter())\n",
    "    draw_koch_snowflake(140, i)\n",
    "    end_time = (tm.perf_counter())\n",
    "    res.append(end_time - start_time)\n",
    "\n",
    "build_table(res)"
   ]
  },
  {
   "cell_type": "code",
   "execution_count": 10,
   "metadata": {
    "id": "diOb-K7LnO5a"
   },
   "outputs": [
    {
     "data": {
      "application/vnd.jupyter.widget-view+json": {
       "model_id": "82eca937265d477c85c2a4b2444ab616",
       "version_major": 2,
       "version_minor": 0
      },
      "text/plain": [
       "Canvas(width=500)"
      ]
     },
     "metadata": {},
     "output_type": "display_data"
    },
    {
     "data": {
      "application/vnd.jupyter.widget-view+json": {
       "model_id": "b803795e8b2b4c8f93ac215b6997ad68",
       "version_major": 2,
       "version_minor": 0
      },
      "text/plain": [
       "Canvas(width=500)"
      ]
     },
     "metadata": {},
     "output_type": "display_data"
    },
    {
     "data": {
      "application/vnd.jupyter.widget-view+json": {
       "model_id": "ce5d9a69e45a44d58473df2ac9309852",
       "version_major": 2,
       "version_minor": 0
      },
      "text/plain": [
       "Canvas(width=500)"
      ]
     },
     "metadata": {},
     "output_type": "display_data"
    },
    {
     "name": "stdout",
     "output_type": "stream",
     "text": [
      "n   | time    \n",
      "0   | 0.094412\n",
      "1   | 0.548797\n",
      "2   | 2.20051 \n"
     ]
    }
   ],
   "source": [
    "def gilbert(size, n, doFlip = False):\n",
    "    if (n==1):\n",
    "        if (doFlip):\n",
    "            t.left(90)\n",
    "            t.forward(size/3)\n",
    "            t.left(90)\n",
    "            t.forward(size/3)\n",
    "            t.left(90)\n",
    "            t.forward(size/3)\n",
    "        else:\n",
    "            t.left(90)\n",
    "            t.forward(size/3)\n",
    "            t.right(90)\n",
    "            t.forward(size/3)\n",
    "            t.right(90)\n",
    "            t.forward(size/3)\n",
    "    else:\n",
    "        if (doFlip):\n",
    "            t.left(90)\n",
    "            gilbert(size, n-1)\n",
    "            t.left(90)\n",
    "            t.forward(size/3)\n",
    "            t.right(90)\n",
    "            gilbert(size, n-1, True)\n",
    "            t.right(90)\n",
    "            t.forward(size/3)\n",
    "            t.right(180)\n",
    "            gilbert(size, n-1, True)\n",
    "            t.forward(size/3)\n",
    "            gilbert(size, n-1)\n",
    "            t.left(90)\n",
    "        else:\n",
    "            t.right(90)\n",
    "            gilbert(size, n-1, True)\n",
    "            t.right(90)\n",
    "            t.forward(size/3)\n",
    "            t.right(90)\n",
    "            gilbert(size, n-1)\n",
    "            t.left(90)\n",
    "            t.forward(size/3)\n",
    "            gilbert(size, n-1)\n",
    "            t.forward(size/3)\n",
    "            t.right(180)\n",
    "            gilbert(size, n-1, True)\n",
    "            t.right(90)\n",
    "\n",
    "    \n",
    "res = []\n",
    "for i in range(1, 4):\n",
    "    myCanvas = turtle.Canvas(width=500,height=500)\n",
    "    display(myCanvas)\n",
    "    myTS = turtle.TurtleScreen(myCanvas)\n",
    "    myTS.clear()\n",
    "    myTS.bgcolor(\"black\")\n",
    "    t = turtle.Turtle(myTS)\n",
    "    t.pencolor('blue')\n",
    "    t.speed(100)\n",
    "    t.penup()\n",
    "    t.setpos(-200,-200)\n",
    "    t.pendown()\n",
    "    start_time = (tm.perf_counter())\n",
    "    gilbert(80, i)\n",
    "    end_time = (tm.perf_counter())\n",
    "    res.append(end_time - start_time)\n",
    "\n",
    "build_table(res)"
   ]
  },
  {
   "cell_type": "code",
   "execution_count": 13,
   "metadata": {},
   "outputs": [
    {
     "data": {
      "application/vnd.jupyter.widget-view+json": {
       "model_id": "933a0d7ec41d426bb01c3fd37a6e8231",
       "version_major": 2,
       "version_minor": 0
      },
      "text/plain": [
       "Canvas(width=500)"
      ]
     },
     "metadata": {},
     "output_type": "display_data"
    },
    {
     "data": {
      "application/vnd.jupyter.widget-view+json": {
       "model_id": "f9b9035281a447f5a517b36f34770f71",
       "version_major": 2,
       "version_minor": 0
      },
      "text/plain": [
       "Canvas(width=500)"
      ]
     },
     "metadata": {},
     "output_type": "display_data"
    },
    {
     "data": {
      "application/vnd.jupyter.widget-view+json": {
       "model_id": "8ee576657bd44d0bb60a1522372f58df",
       "version_major": 2,
       "version_minor": 0
      },
      "text/plain": [
       "Canvas(width=500)"
      ]
     },
     "metadata": {},
     "output_type": "display_data"
    },
    {
     "name": "stdout",
     "output_type": "stream",
     "text": [
      "n   | time    \n",
      "0   | 0.110424\n",
      "1   | 0.612064\n",
      "2   | 2.623236\n"
     ]
    }
   ],
   "source": [
    "from math import sqrt\n",
    "\n",
    "def serpinskiy(size, n, inner = False):\n",
    "    if n == 0:\n",
    "        return\n",
    "    if inner:\n",
    "        # правило\n",
    "        serpinskiy(size, n-1, True)\n",
    "        t.forward(size)\n",
    "        t.left(90)\n",
    "        t.forward(size)\n",
    "        t.right(90)\n",
    "        t.forward(size)\n",
    "        t.left(90)\n",
    "        serpinskiy(size, n-1, True)\n",
    "        t.forward(size)\n",
    "        t.right(90)\n",
    "        t.forward(size)\n",
    "        t.right(90)\n",
    "        serpinskiy(size, n-1, True)\n",
    "        t.forward(size)\n",
    "        t.left(90)\n",
    "        t.forward(size)\n",
    "        t.right(90)\n",
    "        t.forward(size)\n",
    "        t.left(90)\n",
    "        serpinskiy(size, n-1, True)\n",
    "    else:     \n",
    "        # аксиома\n",
    "        t.forward(size)\n",
    "        t.right(90)\n",
    "        serpinskiy(size, n-1, True)\n",
    "        t.forward(size)\n",
    "        t.right(90)\n",
    "        t.forward(size)\n",
    "        t.right(90)\n",
    "        serpinskiy(size, n-1, True)\n",
    "        t.forward(size)\n",
    "\n",
    "res = []\n",
    "for i in range(1, 4):\n",
    "    myCanvas = turtle.Canvas(width=500,height=500)\n",
    "    display(myCanvas)\n",
    "    myTS = turtle.TurtleScreen(myCanvas)\n",
    "    myTS.clear()\n",
    "    myTS.bgcolor(\"black\")\n",
    "    t = turtle.Turtle(myTS)\n",
    "    t.pencolor('blue')\n",
    "    t.speed(100)\n",
    "    t.penup()\n",
    "    t.setpos(0, 200)\n",
    "    t.pendown()\n",
    "\n",
    "    t.setpos(0, 200)\n",
    "    start_time = (tm.perf_counter())\n",
    "    serpinskiy(30, i)\n",
    "    end_time = (tm.perf_counter())\n",
    "    res.append(end_time - start_time)\n",
    "\n",
    "build_table(res)\n"
   ]
  },
  {
   "cell_type": "code",
   "execution_count": 16,
   "metadata": {},
   "outputs": [
    {
     "data": {
      "application/vnd.jupyter.widget-view+json": {
       "model_id": "d4b3f6d565f348a18dbb887beafb1e14",
       "version_major": 2,
       "version_minor": 0
      },
      "text/plain": [
       "Canvas(width=500)"
      ]
     },
     "metadata": {},
     "output_type": "display_data"
    },
    {
     "data": {
      "application/vnd.jupyter.widget-view+json": {
       "model_id": "d87a9ec8edac47d0827e627de89676f9",
       "version_major": 2,
       "version_minor": 0
      },
      "text/plain": [
       "Canvas(width=500)"
      ]
     },
     "metadata": {},
     "output_type": "display_data"
    },
    {
     "data": {
      "application/vnd.jupyter.widget-view+json": {
       "model_id": "3a5346c361bf49b7963bc6076ab4857c",
       "version_major": 2,
       "version_minor": 0
      },
      "text/plain": [
       "Canvas(width=500)"
      ]
     },
     "metadata": {},
     "output_type": "display_data"
    },
    {
     "name": "stdout",
     "output_type": "stream",
     "text": [
      "n   | time    \n",
      "1   | 0.110424\n",
      "2   | 0.612064\n",
      "3   | 2.623236\n",
      "4   | 0.079027\n",
      "5   | 0.234686\n",
      "6   | 0.699767\n",
      "7   | 0.076886\n",
      "8   | 0.265579\n",
      "9   | 0.703841\n"
     ]
    }
   ],
   "source": [
    "def serpinskiy_napkin(size, n, var='A'):\n",
    "    if n == 0:\n",
    "        t.forward(size)\n",
    "        return\n",
    "    match var:\n",
    "        case 'G':\n",
    "            # парвило G\n",
    "            serpinskiy_napkin(size, n-1, 'G')\n",
    "            serpinskiy_napkin(size, n-1, 'G')\n",
    "        case 'F':\n",
    "            # правило F\n",
    "            serpinskiy_napkin(size, n-1, 'F')\n",
    "            t.left(120)\n",
    "            serpinskiy_napkin(size, n-1, 'G')\n",
    "            t.right(120)\n",
    "            serpinskiy_napkin(size, n-1, 'F')\n",
    "            t.right(120)\n",
    "            serpinskiy_napkin(size, n-1, 'G')\n",
    "            t.left(120)\n",
    "            serpinskiy_napkin(size, n-1, 'F')\n",
    "        case 'A':\n",
    "            # аксиома\n",
    "            serpinskiy_napkin(size, n-1, 'F')\n",
    "            t.left(120)\n",
    "            serpinskiy_napkin(size, n-1, 'G')\n",
    "            t.left(120)\n",
    "            serpinskiy_napkin(size, n-1, 'G')\n",
    "\n",
    "res = []\n",
    "for i in range(1, 4):\n",
    "    myCanvas = turtle.Canvas(width=500,height=500)\n",
    "    display(myCanvas)\n",
    "    myTS = turtle.TurtleScreen(myCanvas)\n",
    "    myTS.clear()\n",
    "    myTS.bgcolor(\"black\")\n",
    "    t = turtle.Turtle(myTS)\n",
    "    t.pencolor('blue')\n",
    "    colors = ['red', 'blue', 'purple']\n",
    "    t.speed(100)\n",
    "    t.penup()\n",
    "    t.setpos(-200, -200)\n",
    "    t.pendown()\n",
    "\n",
    "    start_time = (tm.perf_counter())\n",
    "    serpinskiy_napkin(50, i)\n",
    "    end_time = (tm.perf_counter())\n",
    "    res.append(end_time - start_time)\n",
    "\n",
    "build_table(res)\n"
   ]
  },
  {
   "cell_type": "code",
   "execution_count": 17,
   "metadata": {
    "scrolled": false
   },
   "outputs": [
    {
     "data": {
      "application/vnd.jupyter.widget-view+json": {
       "model_id": "f556474c80264bc2995577fb92373062",
       "version_major": 2,
       "version_minor": 0
      },
      "text/plain": [
       "Canvas(width=500)"
      ]
     },
     "metadata": {},
     "output_type": "display_data"
    },
    {
     "data": {
      "application/vnd.jupyter.widget-view+json": {
       "model_id": "e34506dde8e246c78c3d903c467ab356",
       "version_major": 2,
       "version_minor": 0
      },
      "text/plain": [
       "Canvas(width=500)"
      ]
     },
     "metadata": {},
     "output_type": "display_data"
    },
    {
     "data": {
      "application/vnd.jupyter.widget-view+json": {
       "model_id": "e7ec32a5eb3544ed84429bca4ac401ff",
       "version_major": 2,
       "version_minor": 0
      },
      "text/plain": [
       "Canvas(width=500)"
      ]
     },
     "metadata": {},
     "output_type": "display_data"
    },
    {
     "name": "stdout",
     "output_type": "stream",
     "text": [
      "n   | time    \n",
      "1   | 0.169677\n",
      "2   | 1.552632\n",
      "3   | 18.156518\n"
     ]
    }
   ],
   "source": [
    "\n",
    "def serpinskiy_carpet(n, coord_x_1, coord_x_2, coord_y_1, coord_y_2):\n",
    "    if n == 0:\n",
    "        return\n",
    "    elif n == 1:\n",
    "        width = coord_x_2 - coord_x_1\n",
    "        center_x = (coord_x_2 + coord_x_1) >> 1\n",
    "        height = coord_y_2 - coord_y_1\n",
    "        center_y = (coord_y_2 + coord_y_1) >> 1\n",
    "\n",
    "        t.penup()\n",
    "        t.setpos(center_x - width/6, center_y - height/6)\n",
    "        t.pendown()\n",
    "        t.forward(width/3)\n",
    "        t.left(90)\n",
    "        t.forward(height/3)\n",
    "        t.left(90)\n",
    "        t.forward(width/3)\n",
    "        t.left(90)\n",
    "        t.forward(height/3)\n",
    "        t.left(90)\n",
    "    else:\n",
    "        width = coord_x_2 - coord_x_1\n",
    "        height = coord_y_2 - coord_y_1\n",
    "\n",
    "        for i in range(0, 3):\n",
    "            serpinskiy_carpet(n-1, coord_x_1 + width*i//3, coord_x_1 + width*(i+1)//3, coord_y_1, coord_y_1 + height//3)\n",
    "            serpinskiy_carpet(n-1, coord_x_1 + width*i//3, coord_x_1 + width*(i+1)//3, coord_y_1+2*height//3, coord_y_1 + 3*height//3)\n",
    "            \n",
    "        serpinskiy_carpet(n-1, coord_x_1, coord_x_1 + width//3, coord_y_1 + height//3, coord_y_1 + height*2//3)\n",
    "        serpinskiy_carpet(n-1, coord_x_1 + width*2//3, coord_x_1 + width, coord_y_1 + height//3, coord_y_1 + height*2//3)\n",
    "        serpinskiy_carpet(1, coord_x_1, coord_x_2, coord_y_1, coord_y_2)\n",
    "        \n",
    "\n",
    "res = []\n",
    "for i in range(1, 4):\n",
    "    myCanvas = turtle.Canvas(width=500, height=500)\n",
    "    display(myCanvas)\n",
    "    myTS = turtle.TurtleScreen(myCanvas)\n",
    "    myTS.clear()\n",
    "    myTS.bgcolor(\"black\")\n",
    "    t = turtle.Turtle(myTS)\n",
    "    t.pencolor('red')\n",
    "    t.speed(100)\n",
    "\n",
    "    start_time = (tm.perf_counter())\n",
    "    serpinskiy_carpet(i, -250, 250, -250, 250)    \n",
    "    end_time = (tm.perf_counter())\n",
    "    res.append(end_time - start_time)\n",
    "\n",
    "build_table(res)\n"
   ]
  },
  {
   "cell_type": "code",
   "execution_count": null,
   "metadata": {},
   "outputs": [
    {
     "data": {
      "application/vnd.jupyter.widget-view+json": {
       "model_id": "99e57fc2de8247adb08e54e7f8e69f9f",
       "version_major": 2,
       "version_minor": 0
      },
      "text/plain": [
       "Canvas(width=500)"
      ]
     },
     "metadata": {},
     "output_type": "display_data"
    },
    {
     "data": {
      "application/vnd.jupyter.widget-view+json": {
       "model_id": "0cc163088df2438da302fa5c4527b990",
       "version_major": 2,
       "version_minor": 0
      },
      "text/plain": [
       "Canvas(width=500)"
      ]
     },
     "metadata": {},
     "output_type": "display_data"
    },
    {
     "data": {
      "application/vnd.jupyter.widget-view+json": {
       "model_id": "9298796ffe874209b072061d4940f518",
       "version_major": 2,
       "version_minor": 0
      },
      "text/plain": [
       "Canvas(width=500)"
      ]
     },
     "metadata": {},
     "output_type": "display_data"
    },
    {
     "data": {
      "application/vnd.jupyter.widget-view+json": {
       "model_id": "305bd5783b7144d295fc00c0f49969c2",
       "version_major": 2,
       "version_minor": 0
      },
      "text/plain": [
       "Canvas(width=500)"
      ]
     },
     "metadata": {},
     "output_type": "display_data"
    },
    {
     "data": {
      "application/vnd.jupyter.widget-view+json": {
       "model_id": "4c42dc12d4bf4b49b91b04a8e2cf12ba",
       "version_major": 2,
       "version_minor": 0
      },
      "text/plain": [
       "Canvas(width=500)"
      ]
     },
     "metadata": {},
     "output_type": "display_data"
    },
    {
     "data": {
      "application/vnd.jupyter.widget-view+json": {
       "model_id": "a125bd3b8806453f8288cce779c1aeaa",
       "version_major": 2,
       "version_minor": 0
      },
      "text/plain": [
       "Canvas(width=500)"
      ]
     },
     "metadata": {},
     "output_type": "display_data"
    }
   ],
   "source": [
    "from math import sqrt\n",
    "\n",
    "def pifogorian_tree(n, size, is_right=False):\n",
    "    if n == 1:\n",
    "        if (not is_right):\n",
    "            t.forward(size)\n",
    "\n",
    "            t.left(90)\n",
    "            t.forward(size)\n",
    "\n",
    "            p1 = t.pos()\n",
    "\n",
    "            t.left(90)\n",
    "            t.forward(size)\n",
    "\n",
    "            p2 = t.pos()\n",
    "\n",
    "            t.left(90)\n",
    "            t.forward(size)\n",
    "            t.left(135)\n",
    "\n",
    "            return [p1, p2]\n",
    "        else:\n",
    "            t.right(45)\n",
    "            t.forward(size)\n",
    "            t.left(90)\n",
    "            \n",
    "            p1 = t.pos()\n",
    "            \n",
    "            t.forward(size)\n",
    "            \n",
    "            p2 = t.pos()\n",
    "            \n",
    "            t.left(90)\n",
    "            t.forward(size)\n",
    "            t.left(90)\n",
    "            t.forward(size)\n",
    "            t.left(90)\n",
    "            \n",
    "            return [p2, p1]\n",
    "    else:\n",
    "        \n",
    "        s = sqrt(size**2/2)\n",
    "        p1, p2 = pifogorian_tree(1, size, is_right)\n",
    "        \n",
    "        t.penup()\n",
    "        t.setpos(p2)\n",
    "        t.pendown()\n",
    "        \n",
    "        \n",
    "        st = t.heading()\n",
    "        pifogorian_tree(n-1, s, is_right)\n",
    "        st2 = t.heading()\n",
    "        \n",
    "        t.penup()\n",
    "        t.setpos(p1)\n",
    "        t.pendown()\n",
    "        \n",
    "        pifogorian_tree(n-1, s, not is_right)\n",
    "        \n",
    "\n",
    "\n",
    "\n",
    "\n",
    "\n",
    "res = []\n",
    "for i in range(1, 7):\n",
    "    myCanvas = turtle.Canvas(width=500, height=500)\n",
    "    display(myCanvas)\n",
    "    myTS = turtle.TurtleScreen(myCanvas)\n",
    "    myTS.clear()\n",
    "    myTS.bgcolor(\"black\")\n",
    "    t = turtle.Turtle(myTS)\n",
    "    t.pencolor('red')\n",
    "    t.speed(100)\n",
    "    t.penup()\n",
    "    t.setpos(-50, -200)\n",
    "    t.pendown()\n",
    "    \n",
    "    start_time = (tm.perf_counter())\n",
    "    pifogorian_tree(i, 100);    \n",
    "    end_time = (tm.perf_counter())\n",
    "    res.append(end_time - start_time)\n",
    "\n",
    "build_table(res)\n"
   ]
  },
  {
   "cell_type": "code",
   "execution_count": null,
   "metadata": {},
   "outputs": [],
   "source": []
  }
 ],
 "metadata": {
  "colab": {
   "collapsed_sections": [],
   "name": "Lab5.ipynb",
   "provenance": []
  },
  "kernelspec": {
   "display_name": "Python 3 (ipykernel)",
   "language": "python",
   "name": "python3"
  },
  "language_info": {
   "codemirror_mode": {
    "name": "ipython",
    "version": 3
   },
   "file_extension": ".py",
   "mimetype": "text/x-python",
   "name": "python",
   "nbconvert_exporter": "python",
   "pygments_lexer": "ipython3",
   "version": "3.10.4"
  }
 },
 "nbformat": 4,
 "nbformat_minor": 1
}
