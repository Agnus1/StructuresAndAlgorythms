{
 "cells": [
  {
   "cell_type": "markdown",
   "id": "c9a0c494",
   "metadata": {},
   "source": [
    "<h1>Ким И.В. БВТ2004</h1>"
   ]
  },
  {
   "cell_type": "markdown",
   "id": "4d7417bf",
   "metadata": {},
   "source": [
    "<h2>Задача 1</h2>\n",
    "Массив A состоит из целых положительных чисел длин отрезков. Составьте из трех отрезков такой треугольник, чтобы его периметр был максимально возможным. Если невозможно составить треугольник с положительной площадьюфункция возвращает 0."
   ]
  },
  {
   "cell_type": "code",
   "execution_count": 21,
   "id": "50235647",
   "metadata": {},
   "outputs": [],
   "source": [
    "def triangle(arr):\n",
    "    arr.sort(reverse=True)\n",
    "    for i in range(0, len(arr) - 2):\n",
    "        if (arr[i] < arr[i+1] + arr[i+2]):\n",
    "            return arr[i] + arr[i+1] + arr[i+2]\n",
    "    return 0"
   ]
  },
  {
   "cell_type": "markdown",
   "id": "f2e3453f",
   "metadata": {},
   "source": [
    "Входной массив: [100, 200, 5, 2200, 5903, 12] - имеет 0 треугольников, т.к. сумма двух меньших сторон должна всегда быть больше бОльшей стороны."
   ]
  },
  {
   "cell_type": "code",
   "execution_count": 22,
   "id": "4e7fc47b",
   "metadata": {
    "scrolled": true
   },
   "outputs": [
    {
     "data": {
      "text/plain": [
       "0"
      ]
     },
     "execution_count": 22,
     "metadata": {},
     "output_type": "execute_result"
    }
   ],
   "source": [
    "triangle([100, 200, 5, 2200, 5903, 12])"
   ]
  },
  {
   "cell_type": "markdown",
   "id": "f1600963",
   "metadata": {},
   "source": [
    "Входной массив: [6, 5, 2, 3, 1] - имеет 1 треугольник и он является наибольшим (6, 5, 2)"
   ]
  },
  {
   "cell_type": "code",
   "execution_count": 39,
   "id": "0fa01492",
   "metadata": {},
   "outputs": [
    {
     "data": {
      "text/plain": [
       "14"
      ]
     },
     "execution_count": 39,
     "metadata": {},
     "output_type": "execute_result"
    }
   ],
   "source": [
    "triangle([6, 5, 2, 3, 1])"
   ]
  },
  {
   "cell_type": "markdown",
   "id": "83bb7afa",
   "metadata": {},
   "source": [
    "<h2>Задача 2</h2>\n",
    "Дан массив неотрицательных целых чисел nums. Расположите их в таком порядке, чтобы вместе они образовали максимально возможное число. Замечание: Результат может быть очень большим числом, поэтому представьте его как string, а не integer."
   ]
  },
  {
   "cell_type": "markdown",
   "id": "4f3d57bb",
   "metadata": {},
   "source": [
    "Используется класс-сравниватель, возвращающий true, если прямая комбинация (\"1\"+\"2\"=\"12\") больше чем обратная (\"2\"+\"1\"=\"21\"), в противном случае возвращается false"
   ]
  },
  {
   "cell_type": "code",
   "execution_count": 118,
   "id": "46785b14",
   "metadata": {},
   "outputs": [],
   "source": [
    "class Comparator(str):\n",
    "    def __lt__(self, other):\n",
    "        return int(other+self) > int(self+other)\n",
    "    \n",
    "def biggest(nums, iter = 0):\n",
    "    nums = [str(item) for item in nums]\n",
    "    nums.sort(reverse=True,key=Comparator)\n",
    "    print('--Отсортированный массив--')\n",
    "    print(nums)\n",
    "    print('--Результат--')\n",
    "    print(''.join(nums))"
   ]
  },
  {
   "cell_type": "code",
   "execution_count": 119,
   "id": "30011f7a",
   "metadata": {},
   "outputs": [
    {
     "name": "stdout",
     "output_type": "stream",
     "text": [
      "--Отсортированный массив--\n",
      "['9', '9321', '5', '4', '3', '123123', '0']\n",
      "--Результат--\n",
      "993215431231230\n"
     ]
    }
   ],
   "source": [
    "biggest([123123,9,3,0,4,5,9321])"
   ]
  },
  {
   "cell_type": "code",
   "execution_count": 120,
   "id": "d81a06f6",
   "metadata": {},
   "outputs": [
    {
     "name": "stdout",
     "output_type": "stream",
     "text": [
      "--Отсортированный массив--\n",
      "['9', '96', '95', '56', '556', '5', '55', '554', '54', '3', '2', '1']\n",
      "--Результат--\n",
      "996955655655555454321\n"
     ]
    }
   ],
   "source": [
    "biggest([\"95\", \"96\", \"9\", \"54\", \"56\", \"5\", \"55\", \"556\", \"554\", \"1\", \"2\", \"3\"])"
   ]
  },
  {
   "cell_type": "markdown",
   "id": "388bac69",
   "metadata": {},
   "source": [
    "<h2>Задача 3</h2>\n",
    "Дана матрица mat размером m * n, значения целочисленные. Напишите функцию, сортирующую каждую диагональ матрицы по возрастанию и возвращающую получившуюся матрицу."
   ]
  },
  {
   "cell_type": "markdown",
   "id": "cf8f7325",
   "metadata": {},
   "source": [
    "Функция для вывода матрицы"
   ]
  },
  {
   "cell_type": "code",
   "execution_count": 121,
   "id": "0060e817",
   "metadata": {},
   "outputs": [],
   "source": [
    "import random as rn\n",
    "def printMatr(matrix):\n",
    "    print('\\n'.join([''.join(['{:4}'.format(item) for item in row]) for row in matrix]))\n"
   ]
  },
  {
   "cell_type": "markdown",
   "id": "392cfa90",
   "metadata": {},
   "source": [
    "<b>Соритровка пузырьком</b>"
   ]
  },
  {
   "cell_type": "code",
   "execution_count": 122,
   "id": "ecdbddf1",
   "metadata": {},
   "outputs": [],
   "source": [
    "def diagonals(matr):\n",
    "    height = len(matr) - 1\n",
    "    width = len(matr[0]) - 1\n",
    "    diagLen = min(width, height) + 1\n",
    "    for _ in range(diagLen):\n",
    "        for i in range(0, diagLen - 1):\n",
    "            if (matr[i][i] > matr[i+1][i+1]):\n",
    "                matr[i][i], matr[i+1][i+1] = matr[i+1][i+1], matr[i][i]\n",
    "            if (matr[height-i][i] > matr[height-i-1][i+1]):\n",
    "                matr[height-i][i], matr[height-i-1][i+1] = matr[height-i-1][i+1], matr[height-i][i]  \n",
    "    printMatr(matr)"
   ]
  },
  {
   "cell_type": "code",
   "execution_count": 123,
   "id": "fa47802f",
   "metadata": {},
   "outputs": [
    {
     "name": "stdout",
     "output_type": "stream",
     "text": [
      "9\n",
      "13\n",
      "--Исходная матрица--\n",
      "  47  22  19  17  23  19  44  37  14\n",
      "  13   3  39  23  18  35  18  43  46\n",
      "  31  29   5  39   1  48  46  18  34\n",
      "  15  30  45   8  24   5  10  39  36\n",
      "  50  41  14  35  27  26  49   4  22\n",
      "  24  18  44  35  41  44  10  45  47\n",
      "  13  40  15  25   2  24  25  46  34\n",
      "  34   3  48   3  19  37  29  36  49\n",
      "   1  28   7  18   3  23  10   2  18\n",
      "  30   2  25  20  49   8  24  30  24\n",
      "   8  14  19  48  19   5  14   3  13\n",
      "  47   8  34  19  43   8  14  14  27\n",
      "  22  25   6   2  24  12   8  27  30\n",
      "--Результирующая матрица--\n",
      "   3  22  19  17  23  19  44  37  14\n",
      "  13   5  39  23  18  35  18  43  46\n",
      "  31  29   8  39   1  48  46  18  34\n",
      "  15  30  45  18  24   5  10  39  36\n",
      "  50  41  14  35  22  26  49   4  45\n",
      "  24  18  44  35  41  25  10  37  47\n",
      "  13  40  15  25   2  24  36  46  34\n",
      "  34   3  48   3  19  27  29  44  49\n",
      "   1  28   7  18  22  23  10   2  47\n",
      "  30   2  25  20  49   8  24  30  24\n",
      "   8  14  19  48  19   5  14   3  13\n",
      "  47   8  34  19  43   8  14  14  27\n",
      "   3  25   6   2  24  12   8  27  30\n"
     ]
    }
   ],
   "source": [
    "m = int(input())\n",
    "n = int(input())\n",
    "matr = [[rn.randint(1,50) for j in range(0,m)] for i in range(0,n)]\n",
    "print(\"--Исходная матрица--\")\n",
    "printMatr(matr)\n",
    "print(\"--Результирующая матрица--\")\n",
    "diagonals(matr)"
   ]
  },
  {
   "cell_type": "code",
   "execution_count": null,
   "id": "9579d67a",
   "metadata": {},
   "outputs": [],
   "source": []
  }
 ],
 "metadata": {
  "kernelspec": {
   "display_name": "Python 3 (ipykernel)",
   "language": "python",
   "name": "python3"
  },
  "language_info": {
   "codemirror_mode": {
    "name": "ipython",
    "version": 3
   },
   "file_extension": ".py",
   "mimetype": "text/x-python",
   "name": "python",
   "nbconvert_exporter": "python",
   "pygments_lexer": "ipython3",
   "version": "3.10.2"
  }
 },
 "nbformat": 4,
 "nbformat_minor": 5
}
